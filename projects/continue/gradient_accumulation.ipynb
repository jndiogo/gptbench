{
 "cells": [
  {
   "cell_type": "markdown",
   "id": "4637d54f-2278-492c-bb2d-7277fc1aee63",
   "metadata": {},
   "source": [
    "Let's train the gpt2 model on Shakespeare's plays - this time using a larger trainer.batch_size setting and gradient accumulation so that it fits consummer GPU memory sizes.\n",
    "\n",
    "We'll be trying to train the 'gpt2-medium' model (350M params). \n",
    "On a 12GB RTX 3060 GPU gpt2-medium can be trained with a (non-accumulating) batch_size of 4. If it doesn't fit your GPU, change to the smaller model: just modify 'gpt2-medium' in the line:\n",
    "```python\n",
    "ben.init_pretrained('gpt2-medium', cfg)\n",
    "```\n",
    "Change to 'gpt2' (124M).\n",
    "\n",
    "See notebook shakespeare_gpt2 for the non-gradient-accumulating version."
   ]
  },
  {
   "cell_type": "code",
   "execution_count": 1,
   "id": "98692b76-fe53-4b5a-a27f-71e8436b4520",
   "metadata": {},
   "outputs": [],
   "source": [
    "from gptbench import Train, empty_config"
   ]
  },
  {
   "cell_type": "code",
   "execution_count": 2,
   "id": "8b7ef1f3-de29-4e45-a589-e06075a8fae9",
   "metadata": {},
   "outputs": [
    {
     "name": "stdout",
     "output_type": "stream",
     "text": [
      "Initializing model from gpt2-medium\n",
      "Dataset: encoding utf-8 to tokens\n",
      "Dataset: loading uint16 tokens\n",
      "Dataset train_path: ../data/shakespeare.txt, val_path: None, train_split: 1.0, vocab_size: 50257\n",
      "Model params: 354.82M\n"
     ]
    }
   ],
   "source": [
    "ben = Train('gpt2-accum', seed=0xC1A551C)\n",
    "\n",
    "# Let's set the shakespeare.txt data:\n",
    "# train_split=1 means no validation dataset, to maximize training data\n",
    "ben.set_datasets(class_name='gpt2', # GPT2TokensDataset class\n",
    "                 train_path='../data/shakespeare.txt', \n",
    "                 train_split=1.) \n",
    "\n",
    "cfg = empty_config()\n",
    "\n",
    "# use 16-bit floats for half the storage per param\n",
    "cfg.model.dtype='bfloat16'\n",
    "\n",
    "# set the accumulating batch_size to 2, while having the batch_size as 16.\n",
    "cfg.trainer.set(batch_size=16, accum_size=2)\n",
    "\n",
    "# if you get an out of memory error, change to 'gpt2':\n",
    "ben.init_pretrained('gpt2-medium', cfg)"
   ]
  },
  {
   "cell_type": "code",
   "execution_count": 3,
   "id": "0d93421a-3b54-4433-b197-87fcd5f0498e",
   "metadata": {},
   "outputs": [
    {
     "name": "stdout",
     "output_type": "stream",
     "text": [
      "Training\n",
      "Iter 0 (0.000 epoch): loss train=3.5583, val=inf, eval->3.5583\n",
      "==> Saving model at iter=0, eval loss->3.5583 \n",
      ".Sampling:  peasants and childless farms having gone before, in arms with their innovators. The barren silent neighbourhood was a purerage of monied units, the roads bereft of their lines of defence, blown away in vast reasons, completely vacated of their established nuisances, defectionations shew'd before them how far the time of fighting had gone, and benefited in the end, in the snares of asphalt and planking, and military fashion, how widespread and uniform' was all the destruction\n",
      "CUDA max memory used: 9292.57M\n",
      ".........\n",
      "Iter 10 loss=3.4023, iter_dt=4271.40ms\n",
      "..........\n",
      "Iter 20 loss=3.4355, iter_dt=4313.52ms\n",
      ".Sampling: sha, the forest's Because he want himself but occasioned 2Evil royal frenzies of bodily crimes. And moreover (for he is cowardly and dissolute) (working in humble business),it will mean defeat to any unarmed approach from him, for to themselves he will surely commit sudcand pasour suspicions; numbers to take with 29.\n",
      "We'd rather hear you serve for the voyage than for the voyage's midsummer offer\n",
      "Captain Smith at that season off, nor permit you to range\n",
      ".........\n",
      "Iter 30 loss=3.3633, iter_dt=4314.29ms\n",
      "..........\n",
      "Iter 40 loss=3.3594, iter_dt=4321.55ms\n",
      ".Sampling:  save you, Damon.\"\n",
      "\n",
      "The Recovering Prince:\n",
      "My lord;\n",
      "The fourth law equally forbids thee\n",
      "To abandon\n",
      "A mere man unless he dies\n",
      "Sweetly or wholly; and with you, wherefore, Damon?\n",
      "\n",
      "Alas! what a miserable thing I never did kill\n",
      "All my life; but hope surmises me alive:\n",
      "As for Scamander's treachery, there's no doubt of my life;\n",
      "Nor cares of Forsyth mine own.\n",
      ".........\n",
      "Iter 50 loss=3.3105, iter_dt=4314.89ms\n",
      "..........\n",
      "Iter 60 loss=3.3379, iter_dt=4305.87ms\n",
      ".Sampling: ffee\n",
      "and garnish them with two cloves,\n",
      "As Middlesex begs; but he wanteth them\n",
      "More than Middlesex demandeth, for some men,\n",
      "Not because they want nothing, but because they\n",
      "look so.\n",
      "\n",
      "SAVANNA:\n",
      "I pray you, it is my habit remember\n",
      "The satanic knowh thee that we will;\n",
      "For being a naked knight, I bear with you,\n",
      "To show you better how well ye do to give quarter\n",
      "To\n",
      ".........\n",
      "Iter 70 loss=3.3906, iter_dt=4318.95ms\n",
      "..........\n",
      "Iter 80 loss=3.2441, iter_dt=4287.09ms\n",
      ".Sampling: areth and all folk; but of the harvest\n",
      "That sit fallow abroad, hear ye my sorrow.\n",
      "\n",
      "ODIN:\n",
      "Eion, I'll be a witness to it. Did I the gift pass\n",
      "Unhanded, and did I the freedom of lytra not have\n",
      "Aught to break it in? 'Tis vaunting,\n",
      "I shall not do such courageous deed. We died out,\n",
      "As all waddling village voices bring us alive;\n",
      "And call me\n",
      ".........\n",
      "Iter 90 loss=3.2441, iter_dt=4320.85ms\n",
      ".........."
     ]
    }
   ],
   "source": [
    "# set training log periods\n",
    "ben.set_train_log_periods(sample_period=20, dot_period=1, loss_period=10)\n",
    "\n",
    "# and train for 100 iters\n",
    "ben.train(iter_count=100)"
   ]
  },
  {
   "cell_type": "code",
   "execution_count": 9,
   "id": "03afa351-24e5-4332-a9c4-9e527b0a53ad",
   "metadata": {},
   "outputs": [
    {
     "data": {
      "text/plain": [
       "[3.2143750190734863, None]"
      ]
     },
     "execution_count": 9,
     "metadata": {},
     "output_type": "execute_result"
    }
   ],
   "source": [
    "# evaluate loss after 100 training iterations:\n",
    "config = ben.get_config()\n",
    "ben.estimate_loss(ben.train_dataset, None, 4, 25)"
   ]
  },
  {
   "cell_type": "markdown",
   "id": "12f7b54c-9044-4201-9cb2-c7266fb5f236",
   "metadata": {},
   "source": [
    "Loss of 3.21 at 100 training iters is better than the 3.53 of the smaller GPT2 model (shakespeare_gpt2 notebook) at 100 iters. This is probably due this model begin larger, it's learning faster."
   ]
  },
  {
   "cell_type": "code",
   "execution_count": 10,
   "id": "f509b5f1-cee1-445b-ab2a-20d32ad78a8c",
   "metadata": {},
   "outputs": [
    {
     "name": "stdout",
     "output_type": "stream",
     "text": [
      "So it goes - I have done quite well.\n",
      "\n",
      "SCARABIC:\n",
      "Seven is a good one and I shall hope to get both\n",
      "in any mischance\n",
      "Upon your supposed existence: look you,\n",
      "I cannot read beyond one point - some one pleas\n",
      "devil to trace and distort, yet all\n",
      "shall find it the wont of my purpose. Sir\n",
      "sir Sanctuaries have the best marvellous sport\n",
      "In snowy Trobriand since they escaped\n",
      "Five last years\n"
     ]
    }
   ],
   "source": [
    "ben.sample(\"So it goes\")"
   ]
  },
  {
   "cell_type": "code",
   "execution_count": 11,
   "id": "d87a1dc9-a4e9-4a3f-9cbb-45104e21874d",
   "metadata": {},
   "outputs": [
    {
     "name": "stdout",
     "output_type": "stream",
     "text": [
      "Bermuda's (Massachusett) supply of timber is another of the humbling impediments to his present insurrection. The wages of common soldiers are all of their allowance; of few they cannot be increased, They must make their answers into regard which hurt four halfpence to one pound; Of three tens there must stand the rent of privation. Their profits would not till put off;—but they presently bid them break their face! Of them, Dadlebubble!\n",
      "I have proper liberty\n"
     ]
    }
   ],
   "source": [
    "ben.sample(\"Bermuda\")"
   ]
  }
 ],
 "metadata": {
  "kernelspec": {
   "display_name": "Python 3 (ipykernel)",
   "language": "python",
   "name": "python3"
  },
  "language_info": {
   "codemirror_mode": {
    "name": "ipython",
    "version": 3
   },
   "file_extension": ".py",
   "mimetype": "text/x-python",
   "name": "python",
   "nbconvert_exporter": "python",
   "pygments_lexer": "ipython3",
   "version": "3.11.4"
  }
 },
 "nbformat": 4,
 "nbformat_minor": 5
}
