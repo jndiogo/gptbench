{
 "cells": [
  {
   "cell_type": "markdown",
   "id": "94132259-86dc-464d-9ffc-15b9b688d271",
   "metadata": {},
   "source": [
    "In this notebook, we're looking into how the larger GPT-2 model behaves with a translation task, by prefixing the prompt with some fr=en examples, as mentioned in the [GPT-2 paper](https://d4mucfpksywv.cloudfront.net/better-language-models/language-models.pdf).\n",
    "\n",
    "We'll be using the OPUS-100 dataset of English-French phrase pairs:\n",
    "\n",
    "https://opus.nlpl.eu/opus-100.php\n",
    "\n",
    "https://data.statmt.org/opus-100-corpus/v1.0/supervised/en-fr/\n",
    "\n",
    "Download these two files of the test split, one for English, another for French:\n",
    "\n",
    "https://data.statmt.org/opus-100-corpus/v1.0/supervised/en-fr/opus.en-fr-test.en\n",
    "\n",
    "https://data.statmt.org/opus-100-corpus/v1.0/supervised/en-fr/opus.en-fr-test.fr\n",
    "\n",
    "And copy the two files to folder ../data/OPUS-100/\n"
   ]
  },
  {
   "cell_type": "code",
   "execution_count": 5,
   "id": "aa25cc07-fb63-4b06-bb21-e1f4d755a2cd",
   "metadata": {},
   "outputs": [],
   "source": [
    "import random\n",
    "from gptbench import Sample, empty_config"
   ]
  },
  {
   "cell_type": "code",
   "execution_count": 6,
   "id": "a27a922e-e4de-4464-b36d-97b64dfa6baa",
   "metadata": {},
   "outputs": [
    {
     "name": "stdout",
     "output_type": "stream",
     "text": [
      "Initializing model from gpt2-xl\n",
      "Dataset: dummy 0 tokens\n",
      "Dataset: loading uint16 tokens\n",
      "Expanding initial dataset size of 1 (less than block_size+1) by 1025 times to size of 1025\n",
      "Dataset train_path: dummy empty dataset, val_path: None, train_split: 0.9, vocab_size: 50257\n",
      "Model params: 1557.61M\n"
     ]
    }
   ],
   "source": [
    "ben = Sample(seed=0xDAD5CAFE)\n",
    "\n",
    "cfg = empty_config()\n",
    "\n",
    "cfg.model.set(dtype='bfloat16')\n",
    "\n",
    "# the next sample config settings are important:\n",
    "# top=1 will only emit the most probable token on each step (argmax) - we want accuracy, not randomness\n",
    "# emit_start=False will skip emitting the initial context\n",
    "# emit_until='.' will stop generating after the first '.', as we're translating single phrases\n",
    "cfg.sample.set(top=1, emit_start=False, emit_until='.')\n",
    "\n",
    "# if you get an out of memory error, try 'gpt2', the smaller model:\n",
    "ben.init_pretrained('gpt2-xl', cfg)"
   ]
  },
  {
   "cell_type": "code",
   "execution_count": 7,
   "id": "d378698e-af61-49bb-9307-f9939c07dfb1",
   "metadata": {},
   "outputs": [
    {
     "name": "stdout",
     "output_type": "stream",
     "text": [
      "[\"- Vous étiez en train de vous embrasser à l'arrêt de bus!\", 'Avec une ironie farceuse, le jeune artiste tchèque Krištof Kintera chamboule l’art et la vie.', 'Qui va parler au vendeur de voitures ? Big Freddy.']\n",
      "['- You were at a bus stop kissing him!', 'With irony and mischief the young Czech artist Krištof Kintera turns art and life on their heads.', \"- Who's going to talk to the used car salesman?\"]\n"
     ]
    }
   ],
   "source": [
    "with open('../data/OPUS-100/opus.en-fr-test.fr', 'r', encoding='utf-8') as f:\n",
    "    fr_lines = [l.strip() for l in f.readlines()]\n",
    "\n",
    "with open('../data/OPUS-100/opus.en-fr-test.en', 'r', encoding='utf-8') as f:\n",
    "    en_lines = [l.strip() for l in f.readlines()]\n",
    "\n",
    "print(fr_lines[:3])\n",
    "print(en_lines[:3])"
   ]
  },
  {
   "cell_type": "markdown",
   "id": "c57ef0c1-68ca-4258-9b24-ae77578b50bd",
   "metadata": {},
   "source": [
    "Each line in one list is matched to the translation in the same index of the other list.\n",
    "\n",
    "We'll be passing, before the French phrase to be translated, several examples of french_phrase=english_phrase - this will set the context. Finally we'll pass the French phrase and end the prompt with an '='. So the prompt will be:\n",
    "\n",
    "```\n",
    "fr1=en1\\n\n",
    "fr2=en2\\n\n",
    "...\n",
    "french_phrase=\n",
    "```\n",
    "\n",
    "Which the model should complete with the English translation of the final french_phrase, before '='.\n",
    "\n",
    "The next function builds random pairs, taking care that they fit in the block_size context window that the model can processs. (while \n",
    "also reserving space for the French phrase) "
   ]
  },
  {
   "cell_type": "code",
   "execution_count": 8,
   "id": "83ad9241-27de-4550-b3dd-83447b8ac607",
   "metadata": {},
   "outputs": [],
   "source": [
    "def build_random_context(fr_lines, en_lines, token_reserve, dataset):\n",
    "    \"\"\"\n",
    "    Build 'fr=en\\n' lines that when encoded to tokens betch the model's block_size (1024)\n",
    "    \"\"\"\n",
    "    out=''    \n",
    "    while True:\n",
    "        index = random.randrange(len(fr_lines))\n",
    "        fr, en = fr_lines[index], en_lines[index]\n",
    "        new_out = out + fr + '=' + en + '\\n'\n",
    "        new_enc = dataset.encode(new_out)\n",
    "        if len(new_enc) > dataset.get_block_size() - token_reserve:\n",
    "            return out\n",
    "\n",
    "        out = new_out"
   ]
  },
  {
   "cell_type": "code",
   "execution_count": 35,
   "id": "cddeeda9-0fcf-4375-9be4-7f48b5974615",
   "metadata": {},
   "outputs": [
    {
     "data": {
      "text/plain": [
       "\"La séance vise à établir un dialogue interactif entre les membres du Conseil de sécurité et les représentants des organisations régionales et sous-régionales.=The meeting is intended to be an interactive dialogue between the Security Council members and representatives of regional and sub-regional organizations.\\nLes activités d'engagement du public devraient inciter les Canadiens :=Public engagement activities should encourage Canadians to:\\nVoilà un matraquage datant de Juillet.=Here's a bludgeoning from july.\\nLe dossier de travail du personnel indique que le contrôleur avait pris deux pauses; cependant, celui-ci ne se rappelait pas en avoir pris.=The personnel utilization record shows that the controller had taken two breaks; however, he could not recall having taken a break.\\nUne mycose ?=Athlete's foot?\\nTélévision par satellite avec 20 chaînes dans plusieurs langues en moyenne=Satellite TV with 20 channels in different languages\\nVotre plan avec le gamin ?=What was the plan with the kid?\\nLe total des aires protégées à l’intérieur des eaux territoriales et des ZEE a ensuite été divisé par le total national d’eaux territoriales et de ZEE respectivement.=The total protected area within territorial seas and EEZ was then divided by the total national area of the territorial seas and EEZ respectively.\\n- Le docteur est absent.=- The doctor isn't in.\\nNos opposants ont affirmé que nous ne pourrions jamais réunir les chrétiens, les juifs et les musulmans.=Our opponents boldly stated that we could never have Christians and Jews and Muslims standing together in solidarity.\\nRaptors, faites atterrir vos oiseaux et préparez-vous au saut retour pour le second groupe de civils.=Raptors, land your birds and prepare to jump back for the second group of civilians.\\nVous ne voudrez certainement pas que ça se passe comme ça.=You certainly would not want that to happen.\\nJe suis contente que ma mère les ai sauvés.=I'm so glad my mom saved those.\\nRapport sur les AMP Méditerranéennes=Report on Mediterranean MPAs\\n(a) pour lequel un CT a été délivré par les deux autorités compétentes, indépendamment de l'État de conception du produit;=(a) that has been issued a TC by both Competent Authorities, regardless of the State of Design of the product;\\nL’Agence française pour les investissements internationaux a été créée spécialement pour apporter aux investisseurs les services personnalisés dont ils ont besoin.=The Invest in France Agency was specially created to provide investors with the personalized services that they need.\\nExpliquez-le-lui.=Tell him what it is.\\nêtre inscrit à un programme d'études supérieures d'un établissement québécois admissible et faire des progrès satisfaisants.=be registered and progressing satisfactorily in a graduate studies program at an eligible Quebec institution.\\nL'usine=The Factory\\nStratégie de rétablissement des espèces de poissons en péril de la rivière Grand :=Grand River Fish Species at Risk Recovery Strategy:\\nJe ne vais pas suivre M. Katiforis dans sa mise en question ou ses doutes concernant la manière dont les statisticiens ont fait cette proposition.=I cannot agree with Mr Katiforis when he raises questions or doubts concerning the way in which the statisticians have made this proposal.\\n\""
      ]
     },
     "execution_count": 35,
     "metadata": {},
     "output_type": "execute_result"
    }
   ],
   "source": [
    "# context reserving 100 tokens\n",
    "ctx = build_random_context(fr_lines,en_lines, 100, ben.train_dataset)\n",
    "ctx"
   ]
  },
  {
   "cell_type": "code",
   "execution_count": 30,
   "id": "65fc32c8-8e43-4a8b-ba75-ccde34702c8e",
   "metadata": {},
   "outputs": [],
   "source": [
    "# some convenience functions\n",
    "\n",
    "def prepare(fr):\n",
    "    ds = ben.train_dataset\n",
    "    reserve = len(ds.encode(fr)) + 1 # for '='\n",
    "    ctx = build_random_context(fr_lines,en_lines, reserve, ds)\n",
    "    ctx_len = len(ds.encode(ctx))\n",
    "    total = ctx + fr + '=' # the context, then the French phrase and finish the prompt with '='\n",
    "    total_len = len(ds.encode(total))\n",
    "    print(f\"ctx={ctx_len} + fr={reserve} -> total={total_len} tokens\")\n",
    "    return total\n",
    "\n",
    "def translate(fr, **kwargs):\n",
    "    print('========================== French input:')\n",
    "    print(fr)\n",
    "    q = prepare(fr)\n",
    "    print('========================== Random translations context + input:')\n",
    "    print(q[:500], '(...)')\n",
    "    print('========================== English output:')\n",
    "    ben.sample(q, **kwargs)"
   ]
  },
  {
   "cell_type": "code",
   "execution_count": 31,
   "id": "11533861-9ba8-4efa-8161-303230ce9712",
   "metadata": {},
   "outputs": [
    {
     "name": "stdout",
     "output_type": "stream",
     "text": [
      "========================== French input:\n",
      "Un homme a expliqué que l’opération gratuite qu’il avait subie pour soigner une hernie lui permettrait de travailler à nouveau.\n",
      "ctx=929 + fr=48 -> total=977 tokens\n",
      "========================== Random translations context + input:\n",
      "o Observation de la Terre depuis l'espace (OT)?L'objectif de l'activité de programme est de développer et d'opérationnaliser l'utilisation de l'observation spatiale de la Terre pour le bénéfice des Canadiens, particulièrement en matière d'environnement, de gestion des ressources et d'utilisation des terres, ainsi que de sécurité et de politique étrangère.=Space Based Earth Observation (EO)?The program activity objective is to develop and make operational the use of space Earth Observation for th (...)\n",
      "========================== English output:\n",
      "A man explained that he would have preferred to work for a better salary."
     ]
    }
   ],
   "source": [
    "fr = \"Un homme a expliqué que l’opération gratuite qu’il avait subie pour soigner une hernie lui permettrait de travailler à nouveau.\"\n",
    "translate(fr)"
   ]
  },
  {
   "cell_type": "code",
   "execution_count": 33,
   "id": "a025f908-4b3c-43a3-ac29-6740b9d0baed",
   "metadata": {},
   "outputs": [
    {
     "name": "stdout",
     "output_type": "stream",
     "text": [
      "========================== French input:\n",
      "Le ministre esquiva la question s'il a obtenu de la part de l'Inde la promesse de s'occuper de l'affaire.\n",
      "ctx=970 + fr=39 -> total=1009 tokens\n",
      "========================== Random translations context + input:\n",
      "Pourquoi précisément Anvers et Rotterdam?=Why specifically Antwerp or Rotterdam?\n",
      "Le paragraphe104(1.1) est modifié de façon à préciser qu’il s’applique malgré le paragraphe248(25) de la Loi. Ce dernier paragrapheprévoit, pour l’application de la Loi, les circonstances dans lesquelles une personne ou une société de personnes est réputée avoir un «droit de bénéficiaire» dans une fiducie.=Subsection104(1.1) is amended to clarify that it applies notwithstanding subsection248(25) of the Act. Subsecti (...)\n",
      "========================== English output:\n",
      "The Minister is obliged to answer the question whether the Inde is responsible for the incident."
     ]
    }
   ],
   "source": [
    "fr = \"Le ministre esquiva la question s'il a obtenu de la part de l'Inde la promesse de s'occuper de l'affaire.\"\n",
    "translate(fr)"
   ]
  },
  {
   "cell_type": "code",
   "execution_count": 34,
   "id": "90a44a62-a29a-4193-8e03-7b446614639b",
   "metadata": {},
   "outputs": [
    {
     "name": "stdout",
     "output_type": "stream",
     "text": [
      "========================== French input:\n",
      "Dernière visite 26 septembre 2007 04:17.\n",
      "ctx=937 + fr=17 -> total=954 tokens\n",
      "========================== Random translations context + input:\n",
      "Nous vous avons invités à la fête.=We invited you to the party.\n",
      "J'ai dit : \"J'y touche pas\". Et là, il a refusé.=I told him I didn't want to touch it, so he turned him down.\n",
      "Départs d’étrangers par sexe, groupe d’âge, pays de citoyenneté et date d’expiration du visa ou permis actuel=Foreigners departing by sex, age group, country of citizenship and expiration date of current visa or permit\n",
      "Source : «Les «sauveurs» de l’Irak», par Manlio Dinucci, Traduction Marie-Ange Patrizio, Il Manifesto (Ital (...)\n",
      "========================== English output:\n",
      "The first visit to 26 September 2007 04:17."
     ]
    }
   ],
   "source": [
    "fr = \"Dernière visite 26 septembre 2007 04:17.\"\n",
    "translate(fr)"
   ]
  },
  {
   "cell_type": "markdown",
   "id": "e38333c5-8c3b-4218-a1c5-27e009dfc7be",
   "metadata": {},
   "source": [
    "If you generate multiple times the queries above, their translation depends heavily on the prior context.\n",
    "\n",
    "Still, translated phrases are mostly coherent and it definitely is able to translate portions to corresponding English words."
   ]
  }
 ],
 "metadata": {
  "kernelspec": {
   "display_name": "Python 3 (ipykernel)",
   "language": "python",
   "name": "python3"
  },
  "language_info": {
   "codemirror_mode": {
    "name": "ipython",
    "version": 3
   },
   "file_extension": ".py",
   "mimetype": "text/x-python",
   "name": "python",
   "nbconvert_exporter": "python",
   "pygments_lexer": "ipython3",
   "version": "3.11.4"
  }
 },
 "nbformat": 4,
 "nbformat_minor": 5
}
