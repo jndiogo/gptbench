{
 "cells": [
  {
   "cell_type": "markdown",
   "id": "4637d54f-2278-492c-bb2d-7277fc1aee63",
   "metadata": {},
   "source": [
    "Fine-tune a pretrained GPT-2 model on the OpenTriviaQA: https://github.com/uberspot/OpenTriviaQA/ ([CC-BY-SA-4.0 license](https://github.com/uberspot/OpenTriviaQA/blob/master/LICENSE))\n",
    "\n",
    "We'll try to remove the train-validation overfit of the opentrivia_small notebook by increasing dropout: model.dropout=0.2."
   ]
  },
  {
   "cell_type": "markdown",
   "id": "eb1dbfa5-1fef-4942-9eda-256d35bb2343",
   "metadata": {},
   "source": [
    "The dataset was prepared by downloading the dataset and running the prepare_OpenTriviaQA.py script in ../dataprep/\n",
    "\n",
    "```\n",
    "python prepare_OpenTriviaQA.py --shuffle --split=0.9 ..\\..\\..\\datasets\\text\\en\\OpenTriviaQA-master\\categories OpenTriviaQA.txt\n",
    "Slurping animals\n",
    "Slurping brain-teasers\n",
    "Slurping celebrities\n",
    "Slurping entertainment\n",
    "Slurping for-kids\n",
    "Slurping general\n",
    "Slurping geography\n",
    "Slurping history\n",
    "Slurping hobbies\n",
    "Slurping humanities\n",
    "Slurping literature\n",
    "Slurping movies\n",
    "Slurping music\n",
    "Slurping newest\n",
    "Slurping people\n",
    "Slurping rated\n",
    "Slurping religion-faith\n",
    "Slurping science-technology\n",
    "Slurping sports\n",
    "Slurping television\n",
    "Slurping video-games\n",
    "Slurping world\n",
    "QAs mid-count: 34361\n",
    "Matching entries count: 34353\n",
    "Entries - split_index: 30917 of 34353\n",
    "OpenTriviaQA.train.txt: len=3671591\n",
    "OpenTriviaQA.val.txt: len=408887\n",
    "```\n",
    "A train/validation split was cut at 90%.\n",
    "\n",
    "The script creates entries in the form:\n",
    "\n",
    "```\n",
    "Q: What essential vitamin is supplied through the consumption of carrots?\n",
    "A: Vitamin A<|endoftext|>\n",
    "Q: Name the Titan who stole fire from Zeus and gave it to mortals.\n",
    "A: Prometheus<|endoftext|>\n",
    "Q: What object did Isaac Newton use to demonstrate the decomposition of white light into a color spectrum?\n",
    "A: Prism<|endoftext|>\n",
    "```\n",
    "(Newlines after <|endoftext|> were added above for readability.)\n",
    "\n",
    "At inference time, we'll pass the question (or a similar text) until A: as the start_text."
   ]
  },
  {
   "cell_type": "code",
   "execution_count": 1,
   "id": "98692b76-fe53-4b5a-a27f-71e8436b4520",
   "metadata": {},
   "outputs": [],
   "source": [
    "from gptbench import Train, empty_config"
   ]
  },
  {
   "cell_type": "code",
   "execution_count": 2,
   "id": "8b7ef1f3-de29-4e45-a589-e06075a8fae9",
   "metadata": {},
   "outputs": [
    {
     "name": "stdout",
     "output_type": "stream",
     "text": [
      "Loading checkpoint from ./checkpoints/opentrivia-gpt2-drop=0.2/\n",
      "Dataset: encoding utf-8 to tokens\n",
      "Dataset: loading uint16 tokens\n",
      "Dataset: encoding utf-8 to tokens\n",
      "Checkpoint: iter=2600 (0.048 epoch), loss train=2.5956 val=2.7597 eval->2.7597\n",
      "Dataset train_path: ../data/OpenTriviaQA/OpenTriviaQA.train.txt, val_path: ../data/OpenTriviaQA/OpenTriviaQA.val.txt, train_split: None, vocab_size: 50257\n",
      "Model params: 124.44M\n"
     ]
    }
   ],
   "source": [
    "ben = Train('opentrivia-gpt2-drop=0.2', seed=0xC0B01C0B)\n",
    "\n",
    "cfg = empty_config()\n",
    "\n",
    "cfg.model.set(dtype='bfloat16', dropout=0.2)\n",
    "\n",
    "# we're doing gradient accummulation to use a batch_size of 16 while accumulating batches of 4 entries (trainer.accum_size setting)\n",
    "# if you get an out of memory error, lower the accum_size:\n",
    "cfg.trainer.set(learning_rate=1e-4, batch_size=16, accum_size=4)\n",
    "#cfg.trainer.set(learning_rate=1e-3, batch_size=3)\n",
    "\n",
    "cfg.train.set(eval_period=200, eval_iters=50)\n",
    "\n",
    "cfg.sample.set(eot_stop=-1, start_text='Q:')\n",
    "\n",
    "#ben.init_pretrained('gpt2', cfg)\n",
    "\n",
    "force_new = False\n",
    "if ben.can_load() and not force_new:\n",
    "    ben.load(cfg)\n",
    "else:\n",
    "    ben.init_pretrained('gpt2', cfg)    "
   ]
  },
  {
   "cell_type": "code",
   "execution_count": 4,
   "id": "0d93421a-3b54-4433-b197-87fcd5f0498e",
   "metadata": {},
   "outputs": [],
   "source": [
    "# the model was loaded above using a dummy dataset, because we didn't provide one - set the ARC data:\n",
    "# train_split=1 means no validation dataset, to maximize training data\n",
    "ben.set_datasets(class_name='gpt2', # GPT2TokensDataset class\n",
    "                 train_path='../data/OpenTriviaQA/OpenTriviaQA.train.txt', \n",
    "                 val_path='../data/OpenTriviaQA/OpenTriviaQA.val.txt') \n",
    "\n",
    "# set training log periods to avoid cluttering the training output\n",
    "ben.set_train_log_periods(sample_period=250, dot_period=1, loss_period=50)"
   ]
  },
  {
   "cell_type": "code",
   "execution_count": 5,
   "id": "06664401-0384-4edb-9baf-f2fe17af5d23",
   "metadata": {},
   "outputs": [
    {
     "name": "stdout",
     "output_type": "stream",
     "text": [
      "Dataset: encoding utf-8 to tokens\n",
      "Dataset: loading uint16 tokens\n",
      "Dataset: encoding utf-8 to tokens\n",
      "Training\n",
      ".Iter 1 (0.000 epoch): loss train=3.8888, val=3.8797, eval->3.8797\n",
      "==> Saving model at iter=1, eval loss->3.8797 \n",
      ".................................................\n",
      "Iter 50 loss=3.5391, iter_dt=958.20ms\n",
      "..................................................\n",
      "Iter 100 loss=3.3398, iter_dt=960.87ms\n",
      "..................................................\n",
      "Iter 150 loss=3.3281, iter_dt=937.46ms\n",
      "..................................................\n",
      "Iter 200 (0.004 epoch): loss train=2.9256, val=2.9344, eval->2.9344\n",
      "==> Saving model at iter=200, eval loss->2.9344 \n",
      "..................................................\n",
      "Iter 250 loss=3.1953, iter_dt=940.08ms\n",
      "Sampling: Q: What did Josh Gordon leadensters in in so much drama Last Call 2009?\n",
      "A: Rubén Shipens\n",
      "..................................................\n",
      "Iter 300 loss=3.1914, iter_dt=940.01ms\n",
      "..................................................\n",
      "Iter 350 loss=3.1719, iter_dt=936.54ms\n",
      "..................................................\n",
      "Iter 400 (0.007 epoch): loss train=2.8309, val=2.8841, eval->2.8841\n",
      "==> Saving model at iter=400, eval loss->2.8841 \n",
      "..................................................\n",
      "Iter 450 loss=3.1445, iter_dt=2379.88ms\n",
      "..................................................\n",
      "Iter 500 loss=3.1133, iter_dt=3394.11ms\n",
      "Sampling: Q: The juxtaposition of Yukihiro denied by all of these opponents, and Akatsuki provided him with a strong clue as to what would happen most to him?\n",
      "A: Great life, a rare chance\n",
      "..................................................\n",
      "Iter 550 loss=3.0703, iter_dt=3478.27ms\n",
      "..................................................\n",
      "Iter 600 (0.011 epoch): loss train=2.7859, val=2.8459, eval->2.8459\n",
      "==> Saving model at iter=600, eval loss->2.8459 \n",
      "..................................................\n",
      "Iter 650 loss=3.0664, iter_dt=930.51ms\n",
      "..................................................\n",
      "Iter 700 loss=3.0391, iter_dt=933.51ms\n",
      "..................................................\n",
      "Iter 750 loss=3.1133, iter_dt=932.23ms\n",
      "Sampling: Q: Reasonable day?\n",
      "A: 9/27\n",
      "..................................................\n",
      "Iter 800 (0.015 epoch): loss train=2.7406, val=2.8312, eval->2.8312\n",
      "==> Saving model at iter=800, eval loss->2.8312 \n",
      "..................................................\n",
      "Iter 850 loss=3.0312, iter_dt=932.44ms\n",
      "..................................................\n",
      "Iter 900 loss=3.0508, iter_dt=935.64ms\n",
      "..................................................\n",
      "Iter 950 loss=3.0352, iter_dt=933.33ms\n",
      "..................................................\n",
      "Iter 1000 (0.018 epoch): loss train=2.7125, val=2.8112, eval->2.8112\n",
      "==> Saving model at iter=1000, eval loss->2.8112 \n",
      "Sampling: Q: In what Southern Welcoming National Conference game did Patriots selection No. 21 Jared Goff portray a guy sworn to honor the Fight Club?\n",
      "A: Super Bowl XXXIV\n",
      "\n",
      "A: Nov. 23, 1906\n"
     ]
    }
   ],
   "source": [
    "# and train for n iters\n",
    "ben.train(iter_count=1000)"
   ]
  },
  {
   "cell_type": "code",
   "execution_count": 6,
   "id": "af11f652-4d72-4df5-a958-d71cc167ad70",
   "metadata": {},
   "outputs": [
    {
     "name": "stdout",
     "output_type": "stream",
     "text": [
      "Training\n",
      "..................................................\n",
      "Iter 1050 loss=2.9570, iter_dt=1011.43ms\n",
      "..................................................\n",
      "Iter 1100 loss=2.9844, iter_dt=996.06ms\n",
      "..................................................\n",
      "Iter 1150 loss=2.9648, iter_dt=936.48ms\n",
      "..................................................\n",
      "Iter 1200 (0.022 epoch): loss train=2.7044, val=2.8069, eval->2.8069\n",
      "==> Saving model at iter=1200, eval loss->2.8069 \n",
      "..................................................\n",
      "Iter 1250 loss=2.9688, iter_dt=966.54ms\n",
      "Sampling: Q: Chinese cooking is quite unusual in Zhou speaking. Why?\n",
      "A: We only eat forbidden meats\n",
      "..................................................\n",
      "Iter 1300 loss=2.9531, iter_dt=933.05ms\n",
      "..................................................\n",
      "Iter 1350 loss=2.9570, iter_dt=939.05ms\n",
      "..................................................\n",
      "Iter 1400 (0.026 epoch): loss train=2.6684, val=2.7984, eval->2.7984\n",
      "==> Saving model at iter=1400, eval loss->2.7984 \n",
      "..................................................\n",
      "Iter 1450 loss=2.9102, iter_dt=933.09ms\n",
      "..................................................\n",
      "Iter 1500 loss=2.9531, iter_dt=940.89ms\n",
      "Sampling: Q: Cotter, the composer, said in an interview that he knew what he was referring to.\n",
      "A: True\n",
      "..................................................\n",
      "Iter 1550 loss=2.9531, iter_dt=984.05ms\n",
      "..................................................\n",
      "Iter 1600 (0.030 epoch): loss train=2.6672, val=2.7850, eval->2.7850\n",
      "==> Saving model at iter=1600, eval loss->2.7850 \n",
      "..................................................\n",
      "Iter 1650 loss=2.8672, iter_dt=933.85ms\n",
      "..................................................\n",
      "Iter 1700 loss=2.9375, iter_dt=932.47ms\n",
      "..................................................\n",
      "Iter 1750 loss=2.9336, iter_dt=957.39ms\n",
      "Sampling: Q: How did Van Gogh translate paramount principle of Critical Analysis into the language of the Wesleyan Philosophy?\n",
      "A: By what measure?\n",
      "A: tion of the states\n",
      "..................................................\n",
      "Iter 1800 (0.033 epoch): loss train=2.6428, val=2.7828, eval->2.7828\n",
      "==> Saving model at iter=1800, eval loss->2.7828 \n",
      "..................................................\n",
      "Iter 1850 loss=2.9023, iter_dt=1008.79ms\n",
      "..................................................\n",
      "Iter 1900 loss=2.9141, iter_dt=933.46ms\n",
      "..................................................\n",
      "Iter 1950 loss=2.9102, iter_dt=930.10ms\n",
      "..................................................\n",
      "Iter 2000 (0.037 epoch): loss train=2.6250, val=2.7725, eval->2.7725\n",
      "==> Saving model at iter=2000, eval loss->2.7725 \n",
      "Sampling: Q: What is the meaning of the gift of St. Onofia?\n",
      "A: the gift of interpreting\n",
      "..................................................\n",
      "Iter 2050 loss=2.8789, iter_dt=949.84ms\n",
      "..................................................\n",
      "Iter 2100 loss=2.9219, iter_dt=969.15ms\n",
      "..................................................\n",
      "Iter 2150 loss=2.8789, iter_dt=931.93ms\n",
      "..................................................\n",
      "Iter 2200 (0.041 epoch): loss train=2.6175, val=2.7678, eval->2.7678\n",
      "==> Saving model at iter=2200, eval loss->2.7678 \n",
      "..................................................\n",
      "Iter 2250 loss=2.9023, iter_dt=926.49ms\n",
      "Sampling: Q: Workers set up a meeting where that \"whole nation got DJs\" would start informing them that Canada was a part of their country. What was the strategy for doing so?\n",
      "A: Rifle, shotgun or flea powder shotguns could be used\n",
      "..................................................\n",
      "Iter 2300 loss=2.8867, iter_dt=927.47ms\n",
      "..................................................\n",
      "Iter 2350 loss=2.8516, iter_dt=928.54ms\n",
      "..................................................\n",
      "Iter 2400 (0.044 epoch): loss train=2.6084, val=2.7659, eval->2.7659\n",
      "==> Saving model at iter=2400, eval loss->2.7659 \n",
      "..................................................\n",
      "Iter 2450 loss=2.8477, iter_dt=928.48ms\n",
      "..................................................\n",
      "Iter 2500 loss=2.8633, iter_dt=930.27ms\n",
      "Sampling: Q: What is the title of Iowa �Wisconsin�s second official state baseball team?\n",
      "A: Grand Tehtryville\n",
      "..................................................\n",
      "Iter 2550 loss=2.8516, iter_dt=928.28ms\n",
      "..................................................\n",
      "Iter 2600 (0.048 epoch): loss train=2.5956, val=2.7597, eval->2.7597\n",
      "==> Saving model at iter=2600, eval loss->2.7597 \n",
      "..................................................\n",
      "Iter 2650 loss=2.8477, iter_dt=928.48ms\n",
      "..................................................\n",
      "Iter 2700 loss=2.8359, iter_dt=927.71ms\n",
      "..................................................\n",
      "Iter 2750 loss=2.7656, iter_dt=927.48ms\n",
      "Sampling: Q: Yes/No for Paul McCartney\n",
      "..................................................\n",
      "Iter 2800 (0.052 epoch): loss train=2.5894, val=2.7631, eval->2.7631\n",
      "..................................................\n",
      "Iter 2850 loss=2.8320, iter_dt=924.48ms\n",
      "..................................................\n",
      "Iter 2900 loss=2.8086, iter_dt=929.25ms\n",
      "..................................................\n",
      "Iter 2950 loss=2.8438, iter_dt=924.46ms\n",
      "..................................................\n",
      "Iter 3000 (0.055 epoch): loss train=2.5741, val=2.7678, eval->2.7678\n",
      "Sampling: Q: Cyprus and Belgium are home to some of the ranking European soccer nations.\n",
      "A: True\n"
     ]
    }
   ],
   "source": [
    "# and train for n iters\n",
    "ben.train(iter_count=2000)"
   ]
  },
  {
   "cell_type": "code",
   "execution_count": 3,
   "id": "654b12a2-6148-4adc-a06d-197ccf90c273",
   "metadata": {},
   "outputs": [
    {
     "data": {
      "image/png": "[encoded data removed]",
      "text/plain": [
       "<Figure size 1280x960 with 1 Axes>"
      ]
     },
     "metadata": {},
     "output_type": "display_data"
    }
   ],
   "source": [
    "ben.plot_loss()"
   ]
  },
  {
   "cell_type": "markdown",
   "id": "3f565675-dfc0-41dd-9657-1fede6f79139",
   "metadata": {},
   "source": [
    "The train-validation loss gap is similar to the smaller dropout model and will only probably get wider.\n",
    "\n",
    "It's early, as it only trained on very few data, but let's see some samplings:"
   ]
  },
  {
   "cell_type": "code",
   "execution_count": 4,
   "id": "f509b5f1-cee1-445b-ab2a-20d32ad78a8c",
   "metadata": {},
   "outputs": [
    {
     "name": "stdout",
     "output_type": "stream",
     "text": [
      "Q: Why is the sky blue?\n",
      "A: Because of the suns light.\n",
      "--------------------------------------------------------------------------------\n",
      "Q: Why is the sky blue?\n",
      "A: Because of the light reflected by the Sun.\n",
      "--------------------------------------------------------------------------------\n",
      "Q: Why is the sky blue?\n",
      "A: Because of the blue sky\n",
      "--------------------------------------------------------------------------------\n",
      "Q: Why is the sky blue?\n",
      "A: Because of the blue sky\n",
      "--------------------------------------------------------------------------------\n",
      "Q: Why is the sky blue?\n",
      "A: Because of the color of the sky\n"
     ]
    }
   ],
   "source": [
    "ben.sample(\"Q: Why is the sky blue?\\nA:\", top=0.2, count=5)"
   ]
  },
  {
   "cell_type": "code",
   "execution_count": 7,
   "id": "6ddd486c-473c-4253-80e5-17212737c99b",
   "metadata": {},
   "outputs": [
    {
     "name": "stdout",
     "output_type": "stream",
     "text": [
      "Q: What state of matter is ice in?\n",
      "A: Ice\n",
      "--------------------------------------------------------------------------------\n",
      "Q: What state of matter is ice in?\n",
      "A: Ice\n",
      "--------------------------------------------------------------------------------\n",
      "Q: What state of matter is ice in?\n",
      "A: Ice\n",
      "--------------------------------------------------------------------------------\n",
      "Q: What state of matter is ice in?\n",
      "A: Ice\n",
      "--------------------------------------------------------------------------------\n",
      "Q: What state of matter is ice in?\n",
      "A: Antarctic\n"
     ]
    }
   ],
   "source": [
    "ben.sample(\"Q: What state of matter is ice in?\\nA:\", top=0.2, count=5)"
   ]
  },
  {
   "cell_type": "code",
   "execution_count": 9,
   "id": "dda7e3ef-b089-4d36-a456-9b2b2e548d69",
   "metadata": {},
   "outputs": [
    {
     "name": "stdout",
     "output_type": "stream",
     "text": [
      "Q: What is the capital of Portugal?\n",
      "A: Lisbon\n",
      "--------------------------------------------------------------------------------\n",
      "Q: What is the capital of Portugal?\n",
      "A: Lisbon\n",
      "--------------------------------------------------------------------------------\n",
      "Q: What is the capital of Portugal?\n",
      "A: Lisbon\n",
      "--------------------------------------------------------------------------------\n",
      "Q: What is the capital of Portugal?\n",
      "A: Lisbon\n",
      "--------------------------------------------------------------------------------\n",
      "Q: What is the capital of Portugal?\n",
      "A: Lisbon\n"
     ]
    }
   ],
   "source": [
    "ben.sample(\"Q: What is the capital of Portugal?\\nA:\", top=0.2, count=5)"
   ]
  },
  {
   "cell_type": "code",
   "execution_count": 8,
   "id": "d87a1dc9-a4e9-4a3f-9cbb-45104e21874d",
   "metadata": {},
   "outputs": [
    {
     "name": "stdout",
     "output_type": "stream",
     "text": [
      "The on-going struggle between sports hero and villain will likely be far different in it than one dealt with in Game 7 of the NBA Finals. In the NBA, the Finals will take place at Shea Stadium in New York.\n",
      "A: True"
     ]
    }
   ],
   "source": [
    "ben.sample(\"The\")"
   ]
  },
  {
   "cell_type": "code",
   "execution_count": null,
   "id": "b192e51f-4612-4981-8951-ddb9a3318349",
   "metadata": {},
   "outputs": [],
   "source": []
  }
 ],
 "metadata": {
  "kernelspec": {
   "display_name": "Python 3 (ipykernel)",
   "language": "python",
   "name": "python3"
  },
  "language_info": {
   "codemirror_mode": {
    "name": "ipython",
    "version": 3
   },
   "file_extension": ".py",
   "mimetype": "text/x-python",
   "name": "python",
   "nbconvert_exporter": "python",
   "pygments_lexer": "ipython3",
   "version": "3.11.4"
  }
 },
 "nbformat": 4,
 "nbformat_minor": 5
}
