{
 "cells": [
  {
   "cell_type": "markdown",
   "id": "3c0fbbaf-9565-40a9-b378-9f40175390d7",
   "metadata": {},
   "source": [
    "Can the model learn how to add two 2 digit numbers, from a shuffled dataset?\n",
    "\n",
    "The \"add_two_digits\" notebook sharply divided the test dataset (0..89 for first adding term) and validation dataset (90..99). This hurts generalization, because the distribution of the training data is not representative of the whole data.\n",
    "\n",
    "Here we shuffle before splitting datasets, hoping that the model is now training on a more representative distribution of the entire data."
   ]
  },
  {
   "cell_type": "code",
   "execution_count": 1,
   "id": "7b3ce45a-3722-4f8b-ba0b-32ec4a64805a",
   "metadata": {},
   "outputs": [],
   "source": [
    "from gptbench import Train, empty_config"
   ]
  },
  {
   "cell_type": "markdown",
   "id": "40de1360-3928-4c16-b436-4a2b69d5d337",
   "metadata": {},
   "source": [
    "We'll load the data file '../data/add2.txt' used in the add_two_digits notebook, which can be created by running this script in the ../dataprep/ folder:\n",
    "```\n",
    "python prepare_addition.py ../data/add2.txt 2 --sep=\"\\n\"\n",
    "```\n"
   ]
  },
  {
   "cell_type": "code",
   "execution_count": 2,
   "id": "4742c678-5e39-41f2-9589-a9f16fa7751f",
   "metadata": {},
   "outputs": [
    {
     "name": "stdout",
     "output_type": "stream",
     "text": [
      "first: 0+0=0\n",
      "0+1=1\n",
      "0+2=2\n",
      "0+3=3\n",
      "0+4=4\n",
      "0+5=5\n",
      "0+6=6\n",
      "0+7=7\n",
      "0+8=8\n",
      "0+9=9\n",
      "0+10=10\n",
      "0+11=11\n",
      "0+12=12\n",
      "0+13=13\n",
      "0+14=14\n",
      "\n",
      "last: 99+90=189\n",
      "99+91=190\n",
      "99+92=191\n",
      "99+93=192\n",
      "99+94=193\n",
      "99+95=194\n",
      "99+96=195\n",
      "99+97=196\n",
      "99+98=197\n",
      "99+99=198\n",
      "\n"
     ]
    }
   ],
   "source": [
    "# Opening it - the first 100 chars\n",
    "with open('../data/add2.txt', 'r', newline=None) as f:\n",
    "    data = f.read()\n",
    "print(\"first:\", data[:100])\n",
    "print(\"last:\", data[-100:])"
   ]
  },
  {
   "cell_type": "code",
   "execution_count": 3,
   "id": "c9046b8b-a8db-486e-9067-746447745b01",
   "metadata": {},
   "outputs": [],
   "source": [
    "# We'll load these data samples into two CharLineDatasets,\n",
    "# taking care to shuffle the data before splitting train and validation data"
   ]
  },
  {
   "cell_type": "code",
   "execution_count": 4,
   "id": "67e9b4f8-5e0c-4ac6-94eb-75cb182c4e8d",
   "metadata": {},
   "outputs": [
    {
     "name": "stdout",
     "output_type": "stream",
     "text": [
      "Initializing new model add2_shuffled\n",
      "Dataset train_path: ../data/add2.txt, val_path: None, train_split: 0.9, vocab_size: 13\n",
      "Model params: 0.59M\n"
     ]
    }
   ],
   "source": [
    "# create the Train object - we'll name this model add2\n",
    "ben = Train('add2_shuffled', seed=0xADD2B055)\n",
    "\n",
    "# set training log periods to avoid cluttering the training output\n",
    "ben.set_train_log_periods(sample_period=500, dot_period=1, loss_period=0)\n",
    "\n",
    "# set train and validation datasets\n",
    "ben.set_datasets(class_name='charline', # id for the PaddedLineCharDataset class\n",
    "                 train_path='../data/add2.txt', \n",
    "                 train_split=0.9,\n",
    "                 pre_shuffle=True)\n",
    "\n",
    "# set config settings that will override the default values\n",
    "cfg = empty_config()\n",
    "cfg.model.set(n_layer=6, n_head=6, n_embd=90, block_size=16) # our model parameters - block_size is big enough for aa+bb=ccc\n",
    "cfg.sample.set(top=1, max_batch_size=256) # note the top_k(1) - always pick the best item\n",
    "cfg.trainer.set(batch_size=128)\n",
    "\n",
    "# and init a new model with config\n",
    "ben.init_new(cfg)"
   ]
  },
  {
   "cell_type": "code",
   "execution_count": 5,
   "id": "322a19aa-7b8c-49ab-890b-6b43431d1a10",
   "metadata": {},
   "outputs": [
    {
     "data": {
      "text/plain": [
       "('train:',\n",
       " ['25+47=72',\n",
       "  '57+16=73',\n",
       "  '3+59=62',\n",
       "  '24+18=42',\n",
       "  '53+3=56',\n",
       "  '2+3=5',\n",
       "  '28+67=95',\n",
       "  '72+13=85',\n",
       "  '54+52=106',\n",
       "  '26+21=47'],\n",
       " 'validation:',\n",
       " ['18+25=43',\n",
       "  '9+72=81',\n",
       "  '64+75=139',\n",
       "  '74+21=95',\n",
       "  '54+37=91',\n",
       "  '18+74=92',\n",
       "  '42+11=53',\n",
       "  '48+57=105',\n",
       "  '31+41=72',\n",
       "  '5+38=43'])"
      ]
     },
     "execution_count": 5,
     "metadata": {},
     "output_type": "execute_result"
    }
   ],
   "source": [
    "# both train and validation datasets use shuffled data from the add2.txt source file\n",
    "'train:',ben.train_dataset.get_data()[:10], 'validation:', ben.val_dataset.get_data()[:10]"
   ]
  },
  {
   "cell_type": "code",
   "execution_count": 6,
   "id": "ec487f69-c12a-4f26-85c5-47d6a68eee80",
   "metadata": {},
   "outputs": [
    {
     "name": "stdout",
     "output_type": "stream",
     "text": [
      "Training\n",
      ".Iter 1 (0.014 epoch): loss train=2.1426, val=2.1427, eval->2.1427\n",
      "==> Saving model at iter=1, eval loss->2.1427 \n",
      "...................................................................................................\n",
      "Iter 100 (1.422 epoch): loss train=1.0557, val=1.0553, eval->1.0553\n",
      "==> Saving model at iter=100, eval loss->1.0553 \n",
      "....................................................................................................\n",
      "Iter 200 (2.845 epoch): loss train=0.8535, val=0.8551, eval->0.8551\n",
      "==> Saving model at iter=200, eval loss->0.8551 \n",
      "....................................................................................................\n",
      "Iter 300 (4.267 epoch): loss train=0.7834, val=0.7834, eval->0.7834\n",
      "==> Saving model at iter=300, eval loss->0.7834 \n",
      "....................................................................................................\n",
      "Iter 400 (5.690 epoch): loss train=0.7356, val=0.7349, eval->0.7349\n",
      "==> Saving model at iter=400, eval loss->0.7349 \n",
      "....................................................................................................\n",
      "Iter 500 (7.112 epoch): loss train=0.7013, val=0.7028, eval->0.7028\n",
      "==> Saving model at iter=500, eval loss->0.7028 \n",
      "Sampling: 0+1=6\n",
      "....................................................................................................\n",
      "Iter 600 (8.534 epoch): loss train=0.6792, val=0.6817, eval->0.6817\n",
      "==> Saving model at iter=600, eval loss->0.6817 \n",
      "....................................................................................................\n",
      "Iter 700 (9.957 epoch): loss train=0.6658, val=0.6668, eval->0.6668\n",
      "==> Saving model at iter=700, eval loss->0.6668 \n",
      "....................................................................................................\n",
      "Iter 800 (11.379 epoch): loss train=0.6543, val=0.6556, eval->0.6556\n",
      "==> Saving model at iter=800, eval loss->0.6556 \n",
      "....................................................................................................\n",
      "Iter 900 (12.801 epoch): loss train=0.6398, val=0.6418, eval->0.6418\n",
      "==> Saving model at iter=900, eval loss->0.6418 \n",
      "....................................................................................................\n",
      "Iter 1000 (14.224 epoch): loss train=0.6352, val=0.6382, eval->0.6382\n",
      "==> Saving model at iter=1000, eval loss->0.6382 \n",
      "Sampling: 40+4=47\n",
      "....................................................................................................\n",
      "Iter 1100 (15.646 epoch): loss train=0.6267, val=0.6293, eval->0.6293\n",
      "==> Saving model at iter=1100, eval loss->0.6293 \n",
      "....................................................................................................\n",
      "Iter 1200 (17.069 epoch): loss train=0.6137, val=0.6183, eval->0.6183\n",
      "==> Saving model at iter=1200, eval loss->0.6183 \n",
      "....................................................................................................\n",
      "Iter 1300 (18.491 epoch): loss train=0.5642, val=0.5684, eval->0.5684\n",
      "==> Saving model at iter=1300, eval loss->0.5684 \n",
      "....................................................................................................\n",
      "Iter 1400 (19.913 epoch): loss train=0.5348, val=0.5363, eval->0.5363\n",
      "==> Saving model at iter=1400, eval loss->0.5363 \n",
      "....................................................................................................\n",
      "Iter 1500 (21.336 epoch): loss train=0.5179, val=0.5201, eval->0.5201\n",
      "==> Saving model at iter=1500, eval loss->0.5201 \n",
      "Sampling: 69+75=144\n",
      "....................................................................................................\n",
      "Iter 1600 (22.758 epoch): loss train=0.5068, val=0.5105, eval->0.5105\n",
      "==> Saving model at iter=1600, eval loss->0.5105 \n",
      "....................................................................................................\n",
      "Iter 1700 (24.180 epoch): loss train=0.4968, val=0.4994, eval->0.4994\n",
      "==> Saving model at iter=1700, eval loss->0.4994 \n",
      "....................................................................................................\n",
      "Iter 1800 (25.603 epoch): loss train=0.4902, val=0.4941, eval->0.4941\n",
      "==> Saving model at iter=1800, eval loss->0.4941 \n",
      "....................................................................................................\n",
      "Iter 1900 (27.025 epoch): loss train=0.4786, val=0.4819, eval->0.4819\n",
      "==> Saving model at iter=1900, eval loss->0.4819 \n",
      "....................................................................................................\n",
      "Iter 2000 (28.448 epoch): loss train=0.4731, val=0.4767, eval->0.4767\n",
      "==> Saving model at iter=2000, eval loss->0.4767 \n",
      "Sampling: 5+33=38\n",
      "....................................................................................................\n",
      "Iter 2100 (29.870 epoch): loss train=0.4696, val=0.4719, eval->0.4719\n",
      "==> Saving model at iter=2100, eval loss->0.4719 \n",
      "....................................................................................................\n",
      "Iter 2200 (31.292 epoch): loss train=0.4668, val=0.4691, eval->0.4691\n",
      "==> Saving model at iter=2200, eval loss->0.4691 \n",
      "....................................................................................................\n",
      "Iter 2300 (32.715 epoch): loss train=0.4624, val=0.4645, eval->0.4645\n",
      "==> Saving model at iter=2300, eval loss->0.4645 \n",
      "....................................................................................................\n",
      "Iter 2400 (34.137 epoch): loss train=0.4595, val=0.4614, eval->0.4614\n",
      "==> Saving model at iter=2400, eval loss->0.4614 \n",
      "....................................................................................................\n",
      "Iter 2500 (35.560 epoch): loss train=0.4581, val=0.4609, eval->0.4609\n",
      "==> Saving model at iter=2500, eval loss->0.4609 \n",
      "Sampling: 2+41=43\n",
      "....................................................................................................\n",
      "Iter 2600 (36.982 epoch): loss train=0.4524, val=0.4548, eval->0.4548\n",
      "==> Saving model at iter=2600, eval loss->0.4548 \n",
      "....................................................................................................\n",
      "Iter 2700 (38.404 epoch): loss train=0.4500, val=0.4526, eval->0.4526\n",
      "==> Saving model at iter=2700, eval loss->0.4526 \n",
      "....................................................................................................\n",
      "Iter 2800 (39.827 epoch): loss train=0.4508, val=0.4534, eval->0.4534\n",
      "....................................................................................................\n",
      "Iter 2900 (41.249 epoch): loss train=0.4479, val=0.4498, eval->0.4498\n",
      "==> Saving model at iter=2900, eval loss->0.4498 \n",
      "....................................................................................................\n",
      "Iter 3000 (42.671 epoch): loss train=0.4470, val=0.4487, eval->0.4487\n",
      "==> Saving model at iter=3000, eval loss->0.4487 \n",
      "Sampling: +2=3=34\n",
      "....................................................................................................\n",
      "Iter 3100 (44.094 epoch): loss train=0.4461, val=0.4473, eval->0.4473\n",
      "==> Saving model at iter=3100, eval loss->0.4473 \n",
      "....................................................................................................\n",
      "Iter 3200 (45.516 epoch): loss train=0.4465, val=0.4479, eval->0.4479\n",
      "....................................................................................................\n",
      "Iter 3300 (46.939 epoch): loss train=0.4438, val=0.4442, eval->0.4442\n",
      "==> Saving model at iter=3300, eval loss->0.4442 \n",
      "....................................................................................................\n",
      "Iter 3400 (48.361 epoch): loss train=0.4423, val=0.4435, eval->0.4435\n",
      "==> Saving model at iter=3400, eval loss->0.4435 \n",
      "....................................................................................................\n",
      "Iter 3500 (49.783 epoch): loss train=0.4428, val=0.4446, eval->0.4446\n",
      "Sampling: 28+3=31\n",
      "....................................................................................................\n",
      "Iter 3600 (51.206 epoch): loss train=0.4422, val=0.4441, eval->0.4441\n",
      "....................................................................................................\n",
      "Iter 3700 (52.628 epoch): loss train=0.4427, val=0.4447, eval->0.4447\n",
      "....................................................................................................\n",
      "Iter 3800 (54.050 epoch): loss train=0.4421, val=0.4449, eval->0.4449\n",
      "....................................................................................................\n",
      "Iter 3900 (55.473 epoch): loss train=0.4402, val=0.4418, eval->0.4418\n",
      "==> Saving model at iter=3900, eval loss->0.4418 \n",
      "....................................................................................................\n",
      "Iter 4000 (56.895 epoch): loss train=0.4405, val=0.4426, eval->0.4426\n",
      "Sampling: 0+9=9\n",
      "....................................................................................................\n",
      "Iter 4100 (58.318 epoch): loss train=0.4402, val=0.4428, eval->0.4428\n",
      "....................................................................................................\n",
      "Iter 4200 (59.740 epoch): loss train=0.4398, val=0.4418, eval->0.4418\n",
      "....................................................................................................\n",
      "Iter 4300 (61.162 epoch): loss train=0.4393, val=0.4402, eval->0.4402\n",
      "==> Saving model at iter=4300, eval loss->0.4402 \n",
      "....................................................................................................\n",
      "Iter 4400 (62.585 epoch): loss train=0.4399, val=0.4415, eval->0.4415\n",
      "....................................................................................................\n",
      "Iter 4500 (64.007 epoch): loss train=0.4398, val=0.4418, eval->0.4418\n",
      "Sampling: 86+7=93\n",
      "....................................................................................................\n",
      "Iter 4600 (65.429 epoch): loss train=0.4386, val=0.4401, eval->0.4401\n",
      "==> Saving model at iter=4600, eval loss->0.4401 \n",
      "....................................................................................................\n",
      "Iter 4700 (66.852 epoch): loss train=0.4390, val=0.4401, eval->0.4401\n",
      "....................................................................................................\n",
      "Iter 4800 (68.274 epoch): loss train=0.4396, val=0.4409, eval->0.4409\n",
      "....................................................................................................\n",
      "Iter 4900 (69.697 epoch): loss train=0.4386, val=0.4401, eval->0.4401\n",
      "....................................................................................................\n",
      "Iter 5000 (71.119 epoch): loss train=0.4386, val=0.4397, eval->0.4397\n",
      "==> Saving model at iter=5000, eval loss->0.4397 \n",
      "Sampling: 32+55=87\n",
      "....................................................................................................\n",
      "Iter 5100 (72.541 epoch): loss train=0.4386, val=0.4400, eval->0.4400\n",
      "....................................................................................................\n",
      "Iter 5200 (73.964 epoch): loss train=0.4385, val=0.4402, eval->0.4402\n",
      "....................................................................................................\n",
      "Iter 5300 (75.386 epoch): loss train=0.4381, val=0.4393, eval->0.4393\n",
      "==> Saving model at iter=5300, eval loss->0.4393 \n",
      "....................................................................................................\n",
      "Iter 5400 (76.809 epoch): loss train=0.4380, val=0.4402, eval->0.4402\n",
      "....................................................................................................\n",
      "Iter 5500 (78.231 epoch): loss train=0.4380, val=0.4400, eval->0.4400\n",
      "Sampling: 88+77=165\n",
      "....................................................................................................\n",
      "Iter 5600 (79.653 epoch): loss train=0.4386, val=0.4402, eval->0.4402\n",
      "....................................................................................................\n",
      "Iter 5700 (81.076 epoch): loss train=0.4375, val=0.4390, eval->0.4390\n",
      "==> Saving model at iter=5700, eval loss->0.4390 \n",
      "....................................................................................................\n",
      "Iter 5800 (82.498 epoch): loss train=0.4380, val=0.4392, eval->0.4392\n",
      "....................................................................................................\n",
      "Iter 5900 (83.920 epoch): loss train=0.4377, val=0.4396, eval->0.4396\n",
      "....................................................................................................\n",
      "Iter 6000 (85.343 epoch): loss train=0.4378, val=0.4396, eval->0.4396\n",
      "Sampling: 25+13=38\n",
      "....................................................................................................\n",
      "Iter 6100 (86.765 epoch): loss train=0.4378, val=0.4400, eval->0.4400\n",
      "....................................................................................................\n",
      "Iter 6200 (88.188 epoch): loss train=0.4377, val=0.4394, eval->0.4394\n",
      "....................................................................................................\n",
      "Iter 6300 (89.610 epoch): loss train=0.4374, val=0.4397, eval->0.4397\n",
      "....................................................................................................\n",
      "Iter 6400 (91.032 epoch): loss train=0.4368, val=0.4387, eval->0.4387\n",
      "==> Saving model at iter=6400, eval loss->0.4387 \n",
      "....................................................................................................\n",
      "Iter 6500 (92.455 epoch): loss train=0.4372, val=0.4389, eval->0.4389\n",
      "Sampling: \u0000\n",
      "....................................................................................................\n",
      "Iter 6600 (93.877 epoch): loss train=0.4375, val=0.4393, eval->0.4393\n",
      "....................................................................................................\n",
      "Iter 6700 (95.299 epoch): loss train=0.4376, val=0.4399, eval->0.4399\n",
      "....................................................................................................\n",
      "Iter 6800 (96.722 epoch): loss train=0.4375, val=0.4393, eval->0.4393\n",
      "....................................................................................................\n",
      "Iter 6900 (98.144 epoch): loss train=0.4373, val=0.4393, eval->0.4393\n",
      "....................................................................................................\n",
      "Iter 7000 (99.567 epoch): loss train=0.4382, val=0.4399, eval->0.4399\n",
      "Sampling: 66+15=81\n",
      "....................................................................................................\n",
      "Iter 7100 (100.989 epoch): loss train=0.4374, val=0.4396, eval->0.4396\n",
      "....................................................................................................\n",
      "Iter 7200 (102.411 epoch): loss train=0.4371, val=0.4381, eval->0.4381\n",
      "==> Saving model at iter=7200, eval loss->0.4381 \n",
      "....................................................................................................\n",
      "Iter 7300 (103.834 epoch): loss train=0.4377, val=0.4393, eval->0.4393\n",
      "....................................................................................................\n",
      "Iter 7400 (105.256 epoch): loss train=0.4371, val=0.4389, eval->0.4389\n",
      "....................................................................................................\n",
      "Iter 7500 (106.679 epoch): loss train=0.4371, val=0.4384, eval->0.4384\n",
      "Sampling: 95+5=100\n",
      "....................................................................................................\n",
      "Iter 7600 (108.101 epoch): loss train=0.4370, val=0.4388, eval->0.4388\n",
      "....................................................................................................\n",
      "Iter 7700 (109.523 epoch): loss train=0.4371, val=0.4388, eval->0.4388\n",
      "....................................................................................................\n",
      "Iter 7800 (110.946 epoch): loss train=0.4371, val=0.4387, eval->0.4387\n",
      "....................................................................................................\n",
      "Iter 7900 (112.368 epoch): loss train=0.4372, val=0.4387, eval->0.4387\n",
      "....................................................................................................\n",
      "Iter 8000 (113.790 epoch): loss train=0.4371, val=0.4386, eval->0.4386\n",
      "Sampling: 10+33=43\n",
      "....................................................................................................\n",
      "Iter 8100 (115.213 epoch): loss train=0.4373, val=0.4391, eval->0.4391\n",
      "....................................................................................................\n",
      "Iter 8200 (116.635 epoch): loss train=0.4368, val=0.4384, eval->0.4384\n",
      "....................................................................................................\n",
      "Iter 8300 (118.058 epoch): loss train=0.4367, val=0.4383, eval->0.4383\n",
      "....................................................................................................\n",
      "Iter 8400 (119.480 epoch): loss train=0.4370, val=0.4386, eval->0.4386\n",
      "....................................................................................................\n",
      "Iter 8500 (120.902 epoch): loss train=0.4370, val=0.4383, eval->0.4383\n",
      "Sampling: +5=1=\n",
      "....................................................................................................\n",
      "Iter 8600 (122.325 epoch): loss train=0.4371, val=0.4381, eval->0.4381\n",
      "==> Saving model at iter=8600, eval loss->0.4381 \n",
      "....................................................................................................\n",
      "Iter 8700 (123.747 epoch): loss train=0.4370, val=0.4386, eval->0.4386\n",
      "....................................................................................................\n",
      "Iter 8800 (125.169 epoch): loss train=0.4378, val=0.4394, eval->0.4394\n",
      "....................................................................................................\n",
      "Iter 8900 (126.592 epoch): loss train=0.4369, val=0.4384, eval->0.4384\n",
      "....................................................................................................\n",
      "Iter 9000 (128.014 epoch): loss train=0.4370, val=0.4390, eval->0.4390\n",
      "Sampling: 60+45=105\n",
      "....................................................................................................\n",
      "Iter 9100 (129.437 epoch): loss train=0.4367, val=0.4380, eval->0.4380\n",
      "==> Saving model at iter=9100, eval loss->0.4380 \n",
      "....................................................................................................\n",
      "Iter 9200 (130.859 epoch): loss train=0.4373, val=0.4393, eval->0.4393\n",
      "....................................................................................................\n",
      "Iter 9300 (132.281 epoch): loss train=0.4369, val=0.4380, eval->0.4380\n",
      "....................................................................................................\n",
      "Iter 9400 (133.704 epoch): loss train=0.4367, val=0.4384, eval->0.4384\n",
      "....................................................................................................\n",
      "Iter 9500 (135.126 epoch): loss train=0.4368, val=0.4388, eval->0.4388\n",
      "Sampling: 32+52=84\n",
      "....................................................................................................\n",
      "Iter 9600 (136.549 epoch): loss train=0.4371, val=0.4387, eval->0.4387\n",
      "....................................................................................................\n",
      "Iter 9700 (137.971 epoch): loss train=0.4368, val=0.4383, eval->0.4383\n",
      "....................................................................................................\n",
      "Iter 9800 (139.393 epoch): loss train=0.4367, val=0.4390, eval->0.4390\n",
      "....................................................................................................\n",
      "Iter 9900 (140.816 epoch): loss train=0.4370, val=0.4386, eval->0.4386\n",
      "....................................................................................................\n",
      "Iter 10000 (142.238 epoch): loss train=0.4369, val=0.4389, eval->0.4389\n",
      "Sampling: 90+89=179\n"
     ]
    }
   ],
   "source": [
    "# Let's train for 10000 batch iterations. \n",
    "# Each dot means a batch was trained.\n",
    "# Train and validation losses are evaluated each 100 iterations (or iters). \n",
    "# Also each 500 iters a random sampling is taken.\n",
    "ben.train(iter_count=10000)"
   ]
  },
  {
   "cell_type": "code",
   "execution_count": 18,
   "id": "05df85bf-d0e9-46b1-a0f7-0ef966c0fe5a",
   "metadata": {},
   "outputs": [
    {
     "data": {
      "text/plain": [
       "{'n_samples': 1164800,\n",
       " 'train_loss': 0.43667128682136536,\n",
       " 'val_loss': 0.4380030333995819,\n",
       " 'eval_loss': 0.4380030333995819}"
      ]
     },
     "execution_count": 18,
     "metadata": {},
     "output_type": "execute_result"
    }
   ],
   "source": [
    "# The current state loss info - the last evaluated losses for train and validation dataset:\n",
    "ben.state"
   ]
  },
  {
   "cell_type": "code",
   "execution_count": 17,
   "id": "ef787745-d60e-49aa-9a62-f3d4e6d3492f",
   "metadata": {},
   "outputs": [
    {
     "data": {
      "text/plain": [
       "{'n_samples': 1164800,\n",
       " 'train_loss': 0.43667128682136536,\n",
       " 'val_loss': 0.4380030333995819,\n",
       " 'eval_loss': 0.4380030333995819}"
      ]
     },
     "execution_count": 17,
     "metadata": {},
     "output_type": "execute_result"
    }
   ],
   "source": [
    "# The last saved checkpoint info is:\n",
    "ben.last_saved_state"
   ]
  },
  {
   "cell_type": "code",
   "execution_count": 19,
   "id": "4c12a9f7-d760-4cf2-8f16-343d57532d77",
   "metadata": {},
   "outputs": [],
   "source": [
    "# they are the same, so no point in loading the last saved. If not we would do:\n",
    "# ben.load()\n",
    "# ben.state"
   ]
  },
  {
   "cell_type": "code",
   "execution_count": 20,
   "id": "b68280ce-472d-4ad0-9dde-c919c175bede",
   "metadata": {},
   "outputs": [
    {
     "name": "stdout",
     "output_type": "stream",
     "text": [
      "1+1=2\n",
      "34+7=41\n",
      "78+99=177\n"
     ]
    }
   ],
   "source": [
    "# take a few samples:\n",
    "ben.sample('1+1=')\n",
    "ben.sample('34+7=')\n",
    "ben.sample('78+99=')"
   ]
  },
  {
   "cell_type": "code",
   "execution_count": 11,
   "id": "bef4335d-bda5-40ba-b06a-5d0724bfdd9b",
   "metadata": {},
   "outputs": [
    {
     "name": "stdout",
     "output_type": "stream",
     "text": [
      "['96+30=', '91+85=', '75+11=']\n",
      "['126', '176', '86']\n"
     ]
    }
   ],
   "source": [
    "# Much better now - all three are correct.\n",
    "# Let's measure the accuracy of entire training dataset - this should be mostly memorization,\n",
    "# as the model trained on these data\n",
    "train_ds = ben.train_dataset\n",
    "\n",
    "#split each aa+bb=cc into a prompt: 'aa+bb=' and an answer 'cc'\n",
    "q,a=train_ds.get_data_split(0, len(train_ds), sep='=', sep_included=-1)\n",
    "\n",
    "print(q[:3])\n",
    "print(a[:3])"
   ]
  },
  {
   "cell_type": "code",
   "execution_count": 12,
   "id": "14d0f26d-652f-4928-9aac-20a07433d3e3",
   "metadata": {},
   "outputs": [
    {
     "data": {
      "text/plain": [
       "1.0"
      ]
     },
     "execution_count": 12,
     "metadata": {},
     "output_type": "execute_result"
    }
   ],
   "source": [
    "# Measure the accuracy - how good was the memorization? \n",
    "# This may take a while...\n",
    "ben.measure_accuracy(q,a)"
   ]
  },
  {
   "cell_type": "code",
   "execution_count": 13,
   "id": "0368e0cc-8dbd-498a-bca2-8196ce996960",
   "metadata": {},
   "outputs": [
    {
     "name": "stdout",
     "output_type": "stream",
     "text": [
      "['31+19=', '80+54=', '96+68=']\n",
      "['50', '134', '164']\n"
     ]
    }
   ],
   "source": [
    "# Perfect accuracy!\n",
    "# What about the accuracy of the validation dataset, on which the model never trained?\n",
    "val_ds = ben.val_dataset\n",
    "\n",
    "#split each aa+bb=cc into a prompt: 'aa+bb=' and an answer 'cc'\n",
    "q,a=val_ds.get_data_split(0, len(val_ds), sep='=', sep_included=-1)\n",
    "\n",
    "print(q[:3])\n",
    "print(a[:3])"
   ]
  },
  {
   "cell_type": "code",
   "execution_count": 14,
   "id": "dded223d-05ba-4771-a85f-ea2a7214c14a",
   "metadata": {},
   "outputs": [
    {
     "data": {
      "text/plain": [
       "1.0"
      ]
     },
     "execution_count": 14,
     "metadata": {},
     "output_type": "execute_result"
    }
   ],
   "source": [
    "# Validation dataset has sums starting in 90+..99+..., for example 90+2=92.\n",
    "# The model did however see the reversed addition of 90.100 numbers, for example 2+90=92.\n",
    "# Did it somehow learn the commutative property of addition?\n",
    "ben.measure_accuracy(q,a)"
   ]
  },
  {
   "cell_type": "code",
   "execution_count": 15,
   "id": "caa92eda-8433-4013-8713-1c00cbe5148b",
   "metadata": {},
   "outputs": [
    {
     "name": "stdout",
     "output_type": "stream",
     "text": [
      "101+120=\n",
      "131+17=2\n",
      "990+9=188\n"
     ]
    }
   ],
   "source": [
    "# Also perfect acuracy - this means it's generalizing beyond training data. For two digits.\n",
    "# What about three digit sums?\n",
    "ben.sample('101+120=')\n",
    "ben.sample('131+17=')\n",
    "ben.sample('990+9=')"
   ]
  },
  {
   "cell_type": "markdown",
   "id": "0bbb6db8-6dee-4300-8a97-8667ee402368",
   "metadata": {},
   "source": [
    "This model doesn't work for three digits!\n",
    "\n",
    "Perhaps a new project: three digits addition?"
   ]
  }
 ],
 "metadata": {
  "kernelspec": {
   "display_name": "Python 3 (ipykernel)",
   "language": "python",
   "name": "python3"
  },
  "language_info": {
   "codemirror_mode": {
    "name": "ipython",
    "version": 3
   },
   "file_extension": ".py",
   "mimetype": "text/x-python",
   "name": "python",
   "nbconvert_exporter": "python",
   "pygments_lexer": "ipython3",
   "version": "3.11.4"
  }
 },
 "nbformat": 4,
 "nbformat_minor": 5
}
