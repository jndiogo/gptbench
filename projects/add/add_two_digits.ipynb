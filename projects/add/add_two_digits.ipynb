{
 "cells": [
  {
   "cell_type": "markdown",
   "id": "3c0fbbaf-9565-40a9-b378-9f40175390d7",
   "metadata": {},
   "source": [
    "Can the model learn how to add two 2 digit numbers?\n",
    "\n",
    "How well will it generalize for unseen sequences?"
   ]
  },
  {
   "cell_type": "code",
   "execution_count": 1,
   "id": "7b3ce45a-3722-4f8b-ba0b-32ec4a64805a",
   "metadata": {},
   "outputs": [],
   "source": [
    "from gptbench import Train, empty_config, LogFlag"
   ]
  },
  {
   "cell_type": "markdown",
   "id": "40de1360-3928-4c16-b436-4a2b69d5d337",
   "metadata": {},
   "source": [
    "To create data from where we'll create train and validation datasets run in the ../dataprep folder:\n",
    "```\n",
    "python prepare_addition.py ../data/add2.txt 2 --sep=\"\\n\"\n",
    "```\n",
    "The script creates add2.txt with entries in the form a+b=cc, one per line."
   ]
  },
  {
   "cell_type": "code",
   "execution_count": 2,
   "id": "0de89611-55a3-4aa3-a3ca-a829932bf16f",
   "metadata": {},
   "outputs": [
    {
     "name": "stdout",
     "output_type": "stream",
     "text": [
      "0+0=0\n",
      "0+1=1\n",
      "0+2=2\n",
      "0+3=3\n",
      "0+4=4\n",
      "0+5=5\n",
      "0+6=6\n",
      "0+7=7\n",
      "0+8=8\n",
      "0+9=9\n",
      "0+10=10\n",
      "0+11=11\n",
      "0+12=12\n",
      "0+13=13\n",
      "0+14=14\n",
      "\n"
     ]
    }
   ],
   "source": [
    "# Opening the data samples - the first 100 chars\n",
    "with open('../data/add2.txt', 'r', newline=None) as f:\n",
    "    data = f.read()\n",
    "print(data[:100])"
   ]
  },
  {
   "cell_type": "code",
   "execution_count": 3,
   "id": "b346d470-29fb-402e-a767-eb9eef3e79dc",
   "metadata": {},
   "outputs": [
    {
     "name": "stdout",
     "output_type": "stream",
     "text": [
      "99+90=189\n",
      "99+91=190\n",
      "99+92=191\n",
      "99+93=192\n",
      "99+94=193\n",
      "99+95=194\n",
      "99+96=195\n",
      "99+97=196\n",
      "99+98=197\n",
      "99+99=198\n",
      "\n"
     ]
    }
   ],
   "source": [
    "# and the last 100:\n",
    "print(data[-100:])"
   ]
  },
  {
   "cell_type": "markdown",
   "id": "878bfb32-8a54-4da8-984f-b5b4ecfe4bf2",
   "metadata": {},
   "source": [
    "All entries in the form a+b=c. We'll split these data into train and validation datasets:\n",
    "- Train includes all samples from 0+0=0 till 89+99=188\n",
    "- Validation includes sample from 90+0=90 till 99+99=198\n",
    "\n",
    "Please note that training never sees sums where the first number is 90+, but it does see numbers 90 and above in the second term of additions like 10+95=105. From this, will the model be able to learn 90+10?\n",
    "\n",
    "We'll load samples via the CharLineDataset class: each read sample line is stored in a 16 character block padded at the end."
   ]
  },
  {
   "cell_type": "code",
   "execution_count": 4,
   "id": "67e9b4f8-5e0c-4ac6-94eb-75cb182c4e8d",
   "metadata": {},
   "outputs": [
    {
     "name": "stdout",
     "output_type": "stream",
     "text": [
      "Initializing new model add2\n",
      "Dataset train_path: ../data/add2.txt, val_path: None, train_split: 0.9, vocab_size: 13\n",
      "Model params: 0.59M\n"
     ]
    }
   ],
   "source": [
    "# create the GPTBench object - we'll name this model add2\n",
    "ben = Train('add2', seed=0xADD2BEA7)\n",
    "\n",
    "# set training log periods to avoid cluttering the output below\n",
    "ben.set_train_log_periods(sample_period=500, dot_period=1, loss_period=0)\n",
    "\n",
    "# set train and validation datasets\n",
    "ben.set_datasets(class_name='charline', \n",
    "                 train_path='../data/add2.txt', \n",
    "                 train_split=9000/10000) # split at the start of line with 90+..\n",
    "\n",
    "# set config settings that will override the default values\n",
    "cfg = empty_config()\n",
    "cfg.model.set(n_layer=6, n_head=6, n_embd=90, block_size=16) # our model parameters - block_size is big enough for aa+bb=ccc\n",
    "cfg.sample.set(top=1, max_batch_size=256) # note the top_k(1) - always pick the best item\n",
    "cfg.trainer.set(batch_size=128)\n",
    "\n",
    "# and init a new model with config\n",
    "ben.init_new(cfg)"
   ]
  },
  {
   "cell_type": "code",
   "execution_count": 5,
   "id": "d054c307-91cf-4455-9239-51727a91269e",
   "metadata": {},
   "outputs": [
    {
     "data": {
      "text/plain": [
       "(['90+0=90',\n",
       "  '90+1=91',\n",
       "  '90+2=92',\n",
       "  '90+3=93',\n",
       "  '90+4=94',\n",
       "  '90+5=95',\n",
       "  '90+6=96',\n",
       "  '90+7=97',\n",
       "  '90+8=98',\n",
       "  '90+9=99'],\n",
       " ['99+90=189',\n",
       "  '99+91=190',\n",
       "  '99+92=191',\n",
       "  '99+93=192',\n",
       "  '99+94=193',\n",
       "  '99+95=194',\n",
       "  '99+96=195',\n",
       "  '99+97=196',\n",
       "  '99+98=197',\n",
       "  '99+99=198'])"
      ]
     },
     "execution_count": 5,
     "metadata": {},
     "output_type": "execute_result"
    }
   ],
   "source": [
    "# confirm that validation dataset only has entries where the first addition term is 90..99\n",
    "ben.val_dataset.get_data()[:10], ben.val_dataset.get_data()[-10:]"
   ]
  },
  {
   "cell_type": "code",
   "execution_count": 6,
   "id": "ec487f69-c12a-4f26-85c5-47d6a68eee80",
   "metadata": {},
   "outputs": [
    {
     "name": "stdout",
     "output_type": "stream",
     "text": [
      "Training\n",
      "Iters per epoch: 70\n",
      "Iter 0 (0.000 epoch): loss train=2.2523, val=2.2685, eval->2.2685\n",
      "==> Saving model at iter=0, eval loss->2.2685 \n",
      "Sampling: 3\n",
      "CUDA max memory used: 164.88M\n",
      "...................................................................................................\n",
      "Iter 100 (1.422 epoch): loss train=1.0242, val=1.0641, eval->1.0641\n",
      "==> Saving model at iter=100, eval loss->1.0641 \n",
      "...................................................................................................\n",
      "Iter 200 (2.844 epoch): loss train=0.8386, val=0.9072, eval->0.9072\n",
      "==> Saving model at iter=200, eval loss->0.9072 \n",
      "...................................................................................................\n",
      "Iter 300 (4.267 epoch): loss train=0.7672, val=0.8868, eval->0.8868\n",
      "==> Saving model at iter=300, eval loss->0.8868 \n",
      "...................................................................................................\n",
      "Iter 400 (5.689 epoch): loss train=0.7230, val=0.8593, eval->0.8593\n",
      "==> Saving model at iter=400, eval loss->0.8593 \n",
      "...................................................................................................\n",
      "Iter 500 (7.111 epoch): loss train=0.6973, val=0.8660, eval->0.8660\n",
      "Sampling: 48+85=141\n",
      "...................................................................................................\n",
      "Iter 600 (8.533 epoch): loss train=0.6714, val=0.9460, eval->0.9460\n",
      "...................................................................................................\n",
      "Iter 700 (9.956 epoch): loss train=0.6544, val=0.9687, eval->0.9687\n",
      "...................................................................................................\n",
      "Iter 800 (11.378 epoch): loss train=0.6498, val=0.9405, eval->0.9405\n",
      "...................................................................................................\n",
      "Iter 900 (12.800 epoch): loss train=0.6347, val=0.9409, eval->0.9409\n",
      "...................................................................................................\n",
      "Iter 1000 (14.222 epoch): loss train=0.6298, val=1.0720, eval->1.0720\n",
      "Sampling: 7+71=81\n",
      "...................................................................................................\n",
      "Iter 1100 (15.644 epoch): loss train=0.6200, val=1.0136, eval->1.0136\n",
      "...................................................................................................\n",
      "Iter 1200 (17.067 epoch): loss train=0.6188, val=0.9224, eval->0.9224\n",
      "...................................................................................................\n",
      "Iter 1300 (18.489 epoch): loss train=0.6091, val=1.0336, eval->1.0336\n",
      "...................................................................................................\n",
      "Iter 1400 (19.911 epoch): loss train=0.5890, val=0.9848, eval->0.9848\n",
      "...................................................................................................\n",
      "Iter 1500 (21.333 epoch): loss train=0.5422, val=0.8530, eval->0.8530\n",
      "==> Saving model at iter=1500, eval loss->0.8530 \n",
      "Sampling: 22+43=65\n",
      "...................................................................................................\n",
      "Iter 1600 (22.756 epoch): loss train=0.5232, val=0.8067, eval->0.8067\n",
      "==> Saving model at iter=1600, eval loss->0.8067 \n",
      "...................................................................................................\n",
      "Iter 1700 (24.178 epoch): loss train=0.5073, val=0.8597, eval->0.8597\n",
      "...................................................................................................\n",
      "Iter 1800 (25.600 epoch): loss train=0.5001, val=0.8352, eval->0.8352\n",
      "...................................................................................................\n",
      "Iter 1900 (27.022 epoch): loss train=0.4878, val=0.8323, eval->0.8323\n",
      "...................................................................................................\n",
      "Iter 2000 (28.444 epoch): loss train=0.4815, val=0.8965, eval->0.8965\n",
      "Sampling: \u0000+22=26\n",
      "...................................................................................................\n",
      "Iter 2100 (29.867 epoch): loss train=0.4776, val=0.8891, eval->0.8891\n",
      "...................................................................................................\n",
      "Iter 2200 (31.289 epoch): loss train=0.4714, val=0.8663, eval->0.8663\n",
      "...................................................................................................\n",
      "Iter 2300 (32.711 epoch): loss train=0.4682, val=0.9565, eval->0.9565\n",
      "...................................................................................................\n",
      "Iter 2400 (34.133 epoch): loss train=0.4698, val=0.9101, eval->0.9101\n",
      "...................................................................................................\n",
      "Iter 2500 (35.556 epoch): loss train=0.4638, val=0.9438, eval->0.9438\n",
      "Sampling: 73+93=166\n",
      "...................................................................................................\n",
      "Iter 2600 (36.978 epoch): loss train=0.4580, val=0.8165, eval->0.8165\n",
      "...................................................................................................\n",
      "Iter 2700 (38.400 epoch): loss train=0.4563, val=0.8896, eval->0.8896\n",
      "...................................................................................................\n",
      "Iter 2800 (39.822 epoch): loss train=0.4546, val=0.8948, eval->0.8948\n",
      "...................................................................................................\n",
      "Iter 2900 (41.244 epoch): loss train=0.4555, val=0.9535, eval->0.9535\n",
      "..................................................................................................."
     ]
    }
   ],
   "source": [
    "# Let's train for 3000 batch iterations. \n",
    "# Each dot means a batch was trained.\n",
    "# Train and validation losses are evaluated each 100 iterations (iters). \n",
    "# Also each 500 iters a random sample is taken.\n",
    "ben.train(iter_count=3000)"
   ]
  },
  {
   "cell_type": "code",
   "execution_count": 7,
   "id": "05df85bf-d0e9-46b1-a0f7-0ef966c0fe5a",
   "metadata": {},
   "outputs": [
    {
     "data": {
      "text/plain": [
       "{'n_samples': 383872,\n",
       " 'train_loss': 0.4554595947265625,\n",
       " 'val_loss': 0.9535066485404968,\n",
       " 'eval_loss': 0.9535066485404968}"
      ]
     },
     "execution_count": 7,
     "metadata": {},
     "output_type": "execute_result"
    }
   ],
   "source": [
    "# No point in training much more because the train loss keeps going down (it's overfitting),\n",
    "# while the validation loss keeps going up, so the model is not generalizing.\n",
    "# Let's compare the current state loss info:\n",
    "ben.state"
   ]
  },
  {
   "cell_type": "code",
   "execution_count": 8,
   "id": "ef787745-d60e-49aa-9a62-f3d4e6d3492f",
   "metadata": {},
   "outputs": [
    {
     "data": {
      "text/plain": [
       "{'n_samples': 204800,\n",
       " 'train_loss': 0.5231900215148926,\n",
       " 'val_loss': 0.8066989779472351,\n",
       " 'eval_loss': 0.8066989779472351}"
      ]
     },
     "execution_count": 8,
     "metadata": {},
     "output_type": "execute_result"
    }
   ],
   "source": [
    "# The last saved checkpoint info - the best performing model we got.\n",
    "ben.last_saved_state"
   ]
  },
  {
   "cell_type": "code",
   "execution_count": 9,
   "id": "4c12a9f7-d760-4cf2-8f16-343d57532d77",
   "metadata": {},
   "outputs": [
    {
     "name": "stdout",
     "output_type": "stream",
     "text": [
      "Loading checkpoint from ./checkpoints/add2/\n",
      "Checkpoint: iter=1600 (22.756 epoch), loss train=0.5232 val=0.8067 eval->0.8067\n",
      "Dataset train_path: ../data/add2.txt, val_path: None, train_split: 0.9, vocab_size: 13\n",
      "Model params: 0.59M\n"
     ]
    },
    {
     "data": {
      "text/plain": [
       "{'n_samples': 204800,\n",
       " 'train_loss': 0.5231900215148926,\n",
       " 'val_loss': 0.8066989779472351,\n",
       " 'eval_loss': 0.8066989779472351}"
      ]
     },
     "execution_count": 9,
     "metadata": {},
     "output_type": "execute_result"
    }
   ],
   "source": [
    "# last saved checkpoint has lower validation loss, which means more generalization, so let's load it\n",
    "ben.load()\n",
    "ben.state"
   ]
  },
  {
   "cell_type": "code",
   "execution_count": 10,
   "id": "b68280ce-472d-4ad0-9dde-c919c175bede",
   "metadata": {},
   "outputs": [
    {
     "name": "stdout",
     "output_type": "stream",
     "text": [
      "1+1=1\n",
      "34+7=49\n",
      "78+99=177\n"
     ]
    }
   ],
   "source": [
    "# take a few samples: are the sums correct?\n",
    "ben.sample('1+1=')\n",
    "ben.sample('34+7=')\n",
    "ben.sample('78+99=')"
   ]
  },
  {
   "cell_type": "code",
   "execution_count": 11,
   "id": "bef4335d-bda5-40ba-b06a-5d0724bfdd9b",
   "metadata": {},
   "outputs": [
    {
     "name": "stdout",
     "output_type": "stream",
     "text": [
      "['0+0=', '0+1=', '0+2=']\n",
      "['0', '1', '2']\n"
     ]
    }
   ],
   "source": [
    "# Ugh - only the third sum is right!\n",
    "# Let's measure the accuracy of training dataset - \n",
    "# this should be mostly memorization, as the model trained on these data\n",
    "train_ds = ben.train_dataset\n",
    "\n",
    "# split each aa+bb=cc into a prompt: 'aa+bb=' and an answer 'cc'\n",
    "q,a=train_ds.get_data_split(0, len(train_ds), sep='=', sep_included=-1)\n",
    "\n",
    "print(q[:3])\n",
    "print(a[:3])"
   ]
  },
  {
   "cell_type": "code",
   "execution_count": 12,
   "id": "14d0f26d-652f-4928-9aac-20a07433d3e3",
   "metadata": {},
   "outputs": [
    {
     "data": {
      "text/plain": [
       "0.6481111111111111"
      ]
     },
     "execution_count": 12,
     "metadata": {},
     "output_type": "execute_result"
    }
   ],
   "source": [
    "# Measure the accuracy - how good was the memorization?\n",
    "# This may take a while (and give different results than the number below, if you changed the initial seed)\n",
    "ben.measure_accuracy(q,a)"
   ]
  },
  {
   "cell_type": "code",
   "execution_count": 13,
   "id": "0368e0cc-8dbd-498a-bca2-8196ce996960",
   "metadata": {},
   "outputs": [
    {
     "name": "stdout",
     "output_type": "stream",
     "text": [
      "['90+0=', '90+1=', '90+2=']\n",
      "['90', '91', '92']\n"
     ]
    }
   ],
   "source": [
    "# Not good: about 64%. Further training could improve accuracy, \n",
    "# but the model would be overfitting and memorizing the given samples.\n",
    "# What about the accuracy of the validation dataset, on which the model never trained?\n",
    "val_ds = ben.val_dataset\n",
    "\n",
    "# split each aa+bb=cc into a prompt: 'aa+bb=' and an answer 'cc'\n",
    "q,a=val_ds.get_data_split(0, len(val_ds), sep='=', sep_included=-1)\n",
    "\n",
    "print(q[:3])\n",
    "print(a[:3])"
   ]
  },
  {
   "cell_type": "code",
   "execution_count": 14,
   "id": "dded223d-05ba-4771-a85f-ea2a7214c14a",
   "metadata": {},
   "outputs": [
    {
     "data": {
      "text/plain": [
       "0.151"
      ]
     },
     "execution_count": 14,
     "metadata": {},
     "output_type": "execute_result"
    }
   ],
   "source": [
    "# Remember that validation dataset only has sums starting in 90+..99+..., for example 90+2=92.\n",
    "# The model did however see the reversed addition of 90.100 numbers, for example 2+90=92.\n",
    "# Did it somehow learn the commutative property of addition?\n",
    "ben.measure_accuracy(q,a)"
   ]
  },
  {
   "cell_type": "code",
   "execution_count": 15,
   "id": "caa92eda-8433-4013-8713-1c00cbe5148b",
   "metadata": {},
   "outputs": [
    {
     "data": {
      "text/plain": [
       "[('90+41=', '131', '111'),\n",
       " ('90+42=', '132', '122'),\n",
       " ('90+43=', '133', '123'),\n",
       " ('90+44=', '134', '124'),\n",
       " ('90+45=', '135', '126'),\n",
       " ('90+46=', '136', '127'),\n",
       " ('90+47=', '137', '127'),\n",
       " ('90+48=', '138', '128'),\n",
       " ('90+49=', '139', '128'),\n",
       " ('90+50=', '140', '120')]"
      ]
     },
     "execution_count": 15,
     "metadata": {},
     "output_type": "execute_result"
    }
   ],
   "source": [
    "# Terrible: about 15%!\n",
    "# How is the model failing - let's see some incorrect answers:\n",
    "\n",
    "wrongs = []\n",
    "ben.measure_accuracy(q,a, log_list=wrongs, log_cond=-0.5)\n",
    "\n",
    "# first column is the start_text, second is the right answer, third is the generated text\n",
    "wrongs[40:50]"
   ]
  },
  {
   "cell_type": "code",
   "execution_count": 16,
   "id": "3db76130-9c3c-4749-b012-731642168c48",
   "metadata": {},
   "outputs": [
    {
     "data": {
      "text/plain": [
       "[('92+43=', '135', '125'),\n",
       " ('92+44=', '136', '126'),\n",
       " ('92+45=', '137', '127'),\n",
       " ('92+46=', '138', '128'),\n",
       " ('92+47=', '139', '129'),\n",
       " ('92+48=', '140', '129'),\n",
       " ('92+49=', '141', '120'),\n",
       " ('92+50=', '142', '123'),\n",
       " ('92+51=', '143', '133'),\n",
       " ('92+52=', '144', '134')]"
      ]
     },
     "execution_count": 16,
     "metadata": {},
     "output_type": "execute_result"
    }
   ],
   "source": [
    "# In many cases the generated entries are off by around -10 from the right answer...\n",
    "wrongs[200:210]"
   ]
  },
  {
   "cell_type": "code",
   "execution_count": 17,
   "id": "5fa19a06-2ff2-48a9-8ce7-f8a36fcb65ea",
   "metadata": {},
   "outputs": [
    {
     "name": "stdout",
     "output_type": "stream",
     "text": [
      "Initializing new model add2drop\n",
      "Dataset train_path: ../data/add2.txt, val_path: None, train_split: 0.9, vocab_size: 13\n",
      "Model params: 0.59M\n",
      "seed: -1\n",
      "sample: \n",
      "    max_len: 100\n",
      "    count: 1\n",
      "    start_text: None\n",
      "    start_text_sep: |\n",
      "    emit_start: True\n",
      "    emit_after: None\n",
      "    emit_before: None\n",
      "    flush: True\n",
      "    eot_stop: 0\n",
      "    top: 1.0\n",
      "    temp: 1.0\n",
      "    max_batch_size: 256\n",
      "    multiline_prompt: False\n",
      "train: \n",
      "    eval_period: 100\n",
      "    eval_type: 1.0\n",
      "    eval_iters: 100\n",
      "    eval_save_checkpt: 1\n",
      "    eval_save_loss: csv,tensorboard\n",
      "dataset: \n",
      "    class_name: charline\n",
      "    train_path: ../data/add2.txt\n",
      "    train_split: 0.9\n",
      "    val_path: None\n",
      "    params: None\n",
      "model: \n",
      "    device: auto\n",
      "    dtype: float32\n",
      "    n_layer: 6\n",
      "    n_head: 6\n",
      "    n_embd: 90\n",
      "    vocab_size: 13\n",
      "    block_size: 16\n",
      "    dropout: 0.2\n",
      "trainer: \n",
      "    n_workers: 0\n",
      "    batch_size: 128\n",
      "    max_samples: None\n",
      "    grad_norm_clip: 1.0\n",
      "    optimizer: adamw\n",
      "    learning_rate: 0.0001\n",
      "    adamw_beta1: 0.9\n",
      "    adamw_beta2: 0.95\n",
      "    adamw_weight_decay: 0.1\n"
     ]
    }
   ],
   "source": [
    "# let's try increasing model dropout from its 0.1 default, to improve generalization\n",
    "\n",
    "# set config settings that will override existing values - only dropout changes\n",
    "cfg = empty_config()\n",
    "cfg.model.set(dropout=0.2)\n",
    "\n",
    "# init a new model with config\n",
    "ben.init_new(cfg, name='add2drop')\n",
    "\n",
    "# list total config:\n",
    "print(ben.get_config().dump(1))"
   ]
  },
  {
   "cell_type": "code",
   "execution_count": 18,
   "id": "78a74a05-6f66-46ca-884d-afe550d115e5",
   "metadata": {},
   "outputs": [
    {
     "name": "stdout",
     "output_type": "stream",
     "text": [
      "Training\n",
      "Iters per epoch: 70\n",
      "Iter 0 (0.000 epoch): loss train=2.2122, val=2.2529, eval->2.2529\n",
      "==> Saving model at iter=0, eval loss->2.2529 \n",
      "Sampling: 7\n",
      "CUDA max memory used: 164.88M\n",
      "...................................................................................................\n",
      "Iter 100 (1.422 epoch): loss train=1.0401, val=1.0829, eval->1.0829\n",
      "==> Saving model at iter=100, eval loss->1.0829 \n",
      "...................................................................................................\n",
      "Iter 200 (2.844 epoch): loss train=0.8437, val=0.9237, eval->0.9237\n",
      "==> Saving model at iter=200, eval loss->0.9237 \n",
      "...................................................................................................\n",
      "Iter 300 (4.267 epoch): loss train=0.7785, val=0.8864, eval->0.8864\n",
      "==> Saving model at iter=300, eval loss->0.8864 \n",
      "...................................................................................................\n",
      "Iter 400 (5.689 epoch): loss train=0.7375, val=0.8506, eval->0.8506\n",
      "==> Saving model at iter=400, eval loss->0.8506 \n",
      "...................................................................................................\n",
      "Iter 500 (7.111 epoch): loss train=0.7075, val=0.8468, eval->0.8468\n",
      "==> Saving model at iter=500, eval loss->0.8468 \n",
      "Sampling: 0+22=20\n",
      "...................................................................................................\n",
      "Iter 600 (8.533 epoch): loss train=0.6918, val=0.8696, eval->0.8696\n",
      "...................................................................................................\n",
      "Iter 700 (9.956 epoch): loss train=0.6757, val=0.9225, eval->0.9225\n",
      "...................................................................................................\n",
      "Iter 800 (11.378 epoch): loss train=0.6671, val=0.9265, eval->0.9265\n",
      "...................................................................................................\n",
      "Iter 900 (12.800 epoch): loss train=0.6576, val=0.9538, eval->0.9538\n",
      "...................................................................................................\n",
      "Iter 1000 (14.222 epoch): loss train=0.6473, val=0.9576, eval->0.9576\n",
      "Sampling: 60+96=161\n",
      "...................................................................................................\n",
      "Iter 1100 (15.644 epoch): loss train=0.6403, val=0.9779, eval->0.9779\n",
      "...................................................................................................\n",
      "Iter 1200 (17.067 epoch): loss train=0.6355, val=0.8323, eval->0.8323\n",
      "==> Saving model at iter=1200, eval loss->0.8323 \n",
      "...................................................................................................\n",
      "Iter 1300 (18.489 epoch): loss train=0.6265, val=0.9251, eval->0.9251\n",
      "...................................................................................................\n",
      "Iter 1400 (19.911 epoch): loss train=0.6219, val=0.8750, eval->0.8750\n",
      "...................................................................................................\n",
      "Iter 1500 (21.333 epoch): loss train=0.5951, val=0.9080, eval->0.9080\n",
      "Sampling: 8+90=108\n",
      "...................................................................................................\n",
      "Iter 1600 (22.756 epoch): loss train=0.5531, val=0.8190, eval->0.8190\n",
      "==> Saving model at iter=1600, eval loss->0.8190 \n",
      "...................................................................................................\n",
      "Iter 1700 (24.178 epoch): loss train=0.5373, val=0.8325, eval->0.8325\n",
      "...................................................................................................\n",
      "Iter 1800 (25.600 epoch): loss train=0.5270, val=0.9105, eval->0.9105\n",
      "...................................................................................................\n",
      "Iter 1900 (27.022 epoch): loss train=0.5158, val=0.9059, eval->0.9059\n",
      "...................................................................................................\n",
      "Iter 2000 (28.444 epoch): loss train=0.5080, val=0.8434, eval->0.8434\n",
      "Sampling: =\n",
      "...................................................................................................\n",
      "Iter 2100 (29.867 epoch): loss train=0.4980, val=0.9000, eval->0.9000\n",
      "...................................................................................................\n",
      "Iter 2200 (31.289 epoch): loss train=0.4918, val=0.9041, eval->0.9041\n",
      "...................................................................................................\n",
      "Iter 2300 (32.711 epoch): loss train=0.4884, val=0.8811, eval->0.8811\n",
      "...................................................................................................\n",
      "Iter 2400 (34.133 epoch): loss train=0.4842, val=0.8242, eval->0.8242\n",
      "...................................................................................................\n",
      "Iter 2500 (35.556 epoch): loss train=0.4774, val=0.9218, eval->0.9218\n",
      "Sampling: 17+38=55\n",
      "...................................................................................................\n",
      "Iter 2600 (36.978 epoch): loss train=0.4736, val=0.8562, eval->0.8562\n",
      "...................................................................................................\n",
      "Iter 2700 (38.400 epoch): loss train=0.4728, val=0.9016, eval->0.9016\n",
      "...................................................................................................\n",
      "Iter 2800 (39.822 epoch): loss train=0.4749, val=0.9656, eval->0.9656\n",
      "...................................................................................................\n",
      "Iter 2900 (41.244 epoch): loss train=0.4648, val=0.8818, eval->0.8818\n",
      "...................................................................................................\n",
      "Iter 3000 (42.667 epoch): loss train=0.4645, val=0.8534, eval->0.8534\n",
      "Sampling: 1+4=5\n",
      "...................................................................................................\n",
      "Iter 3100 (44.089 epoch): loss train=0.4616, val=0.9788, eval->0.9788\n",
      "...................................................................................................\n",
      "Iter 3200 (45.511 epoch): loss train=0.4567, val=0.9221, eval->0.9221\n",
      "...................................................................................................\n",
      "Iter 3300 (46.933 epoch): loss train=0.4565, val=0.9227, eval->0.9227\n",
      "...................................................................................................\n",
      "Iter 3400 (48.356 epoch): loss train=0.4571, val=0.9723, eval->0.9723\n",
      "...................................................................................................\n",
      "Iter 3500 (49.778 epoch): loss train=0.4559, val=0.9135, eval->0.9135\n",
      "Sampling: =\n",
      "...................................................................................................\n",
      "Iter 3600 (51.200 epoch): loss train=0.4509, val=0.9697, eval->0.9697\n",
      "...................................................................................................\n",
      "Iter 3700 (52.622 epoch): loss train=0.4516, val=0.9404, eval->0.9404\n",
      "...................................................................................................\n",
      "Iter 3800 (54.044 epoch): loss train=0.4502, val=0.9440, eval->0.9440\n",
      "...................................................................................................\n",
      "Iter 3900 (55.467 epoch): loss train=0.4485, val=0.9968, eval->0.9968\n",
      "...................................................................................................\n",
      "Iter 4000 (56.889 epoch): loss train=0.4491, val=0.9630, eval->0.9630\n",
      "Sampling: +5+5=69\n",
      "...................................................................................................\n",
      "Iter 4100 (58.311 epoch): loss train=0.4456, val=1.0026, eval->1.0026\n",
      "...................................................................................................\n",
      "Iter 4200 (59.733 epoch): loss train=0.4477, val=0.9079, eval->0.9079\n",
      "...................................................................................................\n",
      "Iter 4300 (61.156 epoch): loss train=0.4442, val=1.0085, eval->1.0085\n",
      "...................................................................................................\n",
      "Iter 4400 (62.578 epoch): loss train=0.4456, val=0.9568, eval->0.9568\n",
      "...................................................................................................\n",
      "Iter 4500 (64.000 epoch): loss train=0.4430, val=0.9025, eval->0.9025\n",
      "Sampling: 73+51=124\n",
      "...................................................................................................\n",
      "Iter 4600 (65.422 epoch): loss train=0.4442, val=0.9570, eval->0.9570\n",
      "...................................................................................................\n",
      "Iter 4700 (66.844 epoch): loss train=0.4432, val=0.9867, eval->0.9867\n",
      "...................................................................................................\n",
      "Iter 4800 (68.267 epoch): loss train=0.4436, val=1.0381, eval->1.0381\n",
      "...................................................................................................\n",
      "Iter 4900 (69.689 epoch): loss train=0.4427, val=1.0140, eval->1.0140\n",
      "..................................................................................................."
     ]
    }
   ],
   "source": [
    "# train for a bit more this time - 5000 batch iterations\n",
    "ben.train(iter_count=5000)"
   ]
  },
  {
   "cell_type": "code",
   "execution_count": 19,
   "id": "b0e06409-800b-4514-88a4-5c63e4588cce",
   "metadata": {},
   "outputs": [
    {
     "data": {
      "text/plain": [
       "{'n_samples': 204800,\n",
       " 'train_loss': 0.5531212091445923,\n",
       " 'val_loss': 0.818952739238739,\n",
       " 'eval_loss': 0.818952739238739}"
      ]
     },
     "execution_count": 19,
     "metadata": {},
     "output_type": "execute_result"
    }
   ],
   "source": [
    "# What's the loss of the best saved state?\n",
    "ben.last_saved_state"
   ]
  },
  {
   "cell_type": "code",
   "execution_count": 20,
   "id": "035bf312-8d67-4a1b-b17d-c60d570a5653",
   "metadata": {},
   "outputs": [
    {
     "data": {
      "text/plain": [
       "0.9847777777777778"
      ]
     },
     "execution_count": 20,
     "metadata": {},
     "output_type": "execute_result"
    }
   ],
   "source": [
    "# Let's measure accuracy with training data first\n",
    "train_ds = ben.train_dataset\n",
    "\n",
    "# split each aa+bb=cc into a prompt: 'aa+bb=' and an answer 'cc'\n",
    "q,a=train_ds.get_data_split(0, len(train_ds), sep='=', sep_included=-1)\n",
    "\n",
    "ben.measure_accuracy(q,a)"
   ]
  },
  {
   "cell_type": "code",
   "execution_count": 21,
   "id": "18afa8a4-9f08-4f83-a575-b03a3d5423a5",
   "metadata": {},
   "outputs": [
    {
     "data": {
      "text/plain": [
       "0.737"
      ]
     },
     "execution_count": 21,
     "metadata": {},
     "output_type": "execute_result"
    }
   ],
   "source": [
    "# Not bad, it's now over 98% (from 64% above)\n",
    "# And now with validation data:\n",
    "val_ds = ben.val_dataset\n",
    "\n",
    "# split each aa+bb=cc into a prompt: 'aa+bb=' and an answer 'cc'\n",
    "q,a=val_ds.get_data_split(0, len(val_ds), sep='=', sep_included=-1)\n",
    "\n",
    "ben.measure_accuracy(q,a)"
   ]
  },
  {
   "cell_type": "code",
   "execution_count": 22,
   "id": "9cd0ba6b-180a-4c99-9cc7-2a6063695224",
   "metadata": {},
   "outputs": [
    {
     "data": {
      "text/plain": [
       "[('90+4=', '94', '93'),\n",
       " ('90+30=', '120', '110'),\n",
       " ('90+40=', '130', '120'),\n",
       " ('90+47=', '137', '127'),\n",
       " ('90+48=', '138', '128'),\n",
       " ('90+50=', '140', '130'),\n",
       " ('90+57=', '147', '137'),\n",
       " ('90+58=', '148', '138'),\n",
       " ('90+60=', '150', '140'),\n",
       " ('91+2=', '93', '92'),\n",
       " ('91+3=', '94', '93'),\n",
       " ('91+4=', '95', '94'),\n",
       " ('91+9=', '100', '90'),\n",
       " ('91+29=', '120', '110'),\n",
       " ('91+39=', '130', '120'),\n",
       " ('91+40=', '131', '121'),\n",
       " ('91+46=', '137', '127'),\n",
       " ('91+47=', '138', '128'),\n",
       " ('91+49=', '140', '130'),\n",
       " ('91+57=', '148', '138'),\n",
       " ('92+0=', '92', '91'),\n",
       " ('92+1=', '93', '92'),\n",
       " ('92+2=', '94', '93'),\n",
       " ('92+3=', '95', '94'),\n",
       " ('92+4=', '96', '95'),\n",
       " ('92+5=', '97', '96'),\n",
       " ('92+6=', '98', '97'),\n",
       " ('92+8=', '100', '90'),\n",
       " ('92+28=', '120', '110'),\n",
       " ('92+38=', '130', '120'),\n",
       " ('92+39=', '131', '121'),\n",
       " ('92+46=', '138', '128'),\n",
       " ('92+48=', '140', '130'),\n",
       " ('92+49=', '141', '131'),\n",
       " ('93+0=', '93', '92'),\n",
       " ('93+1=', '94', '93'),\n",
       " ('93+2=', '95', '94'),\n",
       " ('93+3=', '96', '95'),\n",
       " ('93+4=', '97', '96'),\n",
       " ('93+5=', '98', '97'),\n",
       " ('93+6=', '99', '98'),\n",
       " ('93+7=', '100', '90'),\n",
       " ('93+8=', '101', '91'),\n",
       " ('93+35=', '128', '118'),\n",
       " ('93+37=', '130', '120'),\n",
       " ('93+38=', '131', '121'),\n",
       " ('93+39=', '132', '122'),\n",
       " ('93+40=', '133', '123'),\n",
       " ('93+41=', '134', '124'),\n",
       " ('93+42=', '135', '125'),\n",
       " ('93+43=', '136', '126'),\n",
       " ('93+44=', '137', '127'),\n",
       " ('93+45=', '138', '128'),\n",
       " ('93+46=', '139', '129'),\n",
       " ('93+47=', '140', '130'),\n",
       " ('93+48=', '141', '131'),\n",
       " ('93+49=', '142', '132'),\n",
       " ('94+4=', '98', '97'),\n",
       " ('94+5=', '99', '90'),\n",
       " ('94+6=', '100', '91'),\n",
       " ('94+7=', '101', '91'),\n",
       " ('94+8=', '102', '92'),\n",
       " ('94+26=', '120', '110'),\n",
       " ('94+31=', '125', '115'),\n",
       " ('94+32=', '126', '116'),\n",
       " ('94+33=', '127', '117'),\n",
       " ('94+34=', '128', '118'),\n",
       " ('94+36=', '130', '120'),\n",
       " ('94+37=', '131', '121'),\n",
       " ('94+38=', '132', '122'),\n",
       " ('94+39=', '133', '123'),\n",
       " ('94+40=', '134', '124'),\n",
       " ('94+41=', '135', '125'),\n",
       " ('94+42=', '136', '126'),\n",
       " ('94+43=', '137', '127'),\n",
       " ('94+44=', '138', '128'),\n",
       " ('94+45=', '139', '129'),\n",
       " ('94+46=', '140', '130'),\n",
       " ('94+47=', '141', '131'),\n",
       " ('94+48=', '142', '132'),\n",
       " ('94+49=', '143', '133'),\n",
       " ('94+50=', '144', '134'),\n",
       " ('94+51=', '145', '135'),\n",
       " ('94+54=', '148', '138'),\n",
       " ('94+97=', '191', '111'),\n",
       " ('95+1=', '96', '97'),\n",
       " ('95+3=', '98', '10'),\n",
       " ('95+4=', '99', '12'),\n",
       " ('95+5=', '100', '13'),\n",
       " ('95+6=', '101', '13'),\n",
       " ('95+7=', '102', '93'),\n",
       " ('95+8=', '103', '16'),\n",
       " ('95+30=', '125', '115'),\n",
       " ('95+31=', '126', '116'),\n",
       " ('95+32=', '127', '117'),\n",
       " ('95+33=', '128', '118'),\n",
       " ('95+35=', '130', '120'),\n",
       " ('95+36=', '131', '121'),\n",
       " ('95+37=', '132', '122'),\n",
       " ('95+38=', '133', '123'),\n",
       " ('95+39=', '134', '124'),\n",
       " ('95+40=', '135', '125'),\n",
       " ('95+41=', '136', '126'),\n",
       " ('95+42=', '137', '127'),\n",
       " ('95+43=', '138', '128'),\n",
       " ('95+44=', '139', '129'),\n",
       " ('95+45=', '140', '130'),\n",
       " ('95+46=', '141', '131'),\n",
       " ('95+47=', '142', '132'),\n",
       " ('95+48=', '143', '133'),\n",
       " ('95+49=', '144', '134'),\n",
       " ('95+50=', '145', '135'),\n",
       " ('95+51=', '146', '136'),\n",
       " ('95+52=', '147', '137'),\n",
       " ('95+53=', '148', '138'),\n",
       " ('95+59=', '154', '144'),\n",
       " ('95+76=', '171', '181'),\n",
       " ('95+96=', '191', '111'),\n",
       " ('95+97=', '192', '112'),\n",
       " ('96+1=', '97', '98'),\n",
       " ('96+2=', '98', '99'),\n",
       " ('96+3=', '99', '112'),\n",
       " ('96+4=', '100', '12'),\n",
       " ('96+5=', '101', '13'),\n",
       " ('96+6=', '102', '14'),\n",
       " ('96+7=', '103', '15'),\n",
       " ('96+8=', '104', '16'),\n",
       " ('96+9=', '105', '17'),\n",
       " ('96+30=', '126', '116'),\n",
       " ('96+31=', '127', '117'),\n",
       " ('96+32=', '128', '118'),\n",
       " ('96+33=', '129', '119'),\n",
       " ('96+34=', '130', '120'),\n",
       " ('96+35=', '131', '121'),\n",
       " ('96+36=', '132', '122'),\n",
       " ('96+37=', '133', '123'),\n",
       " ('96+38=', '134', '124'),\n",
       " ('96+39=', '135', '125'),\n",
       " ('96+40=', '136', '126'),\n",
       " ('96+41=', '137', '127'),\n",
       " ('96+42=', '138', '128'),\n",
       " ('96+43=', '139', '129'),\n",
       " ('96+44=', '140', '130'),\n",
       " ('96+45=', '141', '131'),\n",
       " ('96+46=', '142', '132'),\n",
       " ('96+47=', '143', '133'),\n",
       " ('96+48=', '144', '134'),\n",
       " ('96+49=', '145', '135'),\n",
       " ('96+50=', '146', '136'),\n",
       " ('96+51=', '147', '137'),\n",
       " ('96+52=', '148', '138'),\n",
       " ('96+58=', '154', '144'),\n",
       " ('96+59=', '155', '145'),\n",
       " ('96+60=', '156', '146'),\n",
       " ('96+95=', '191', '111'),\n",
       " ('97+1=', '98', '99'),\n",
       " ('97+2=', '99', '10'),\n",
       " ('97+3=', '100', '12'),\n",
       " ('97+4=', '101', '12'),\n",
       " ('97+5=', '102', '13'),\n",
       " ('97+6=', '103', '14'),\n",
       " ('97+7=', '104', '15'),\n",
       " ('97+8=', '105', '16'),\n",
       " ('97+9=', '106', '18'),\n",
       " ('97+30=', '127', '117'),\n",
       " ('97+31=', '128', '118'),\n",
       " ('97+32=', '129', '119'),\n",
       " ('97+33=', '130', '120'),\n",
       " ('97+34=', '131', '121'),\n",
       " ('97+35=', '132', '122'),\n",
       " ('97+36=', '133', '123'),\n",
       " ('97+37=', '134', '124'),\n",
       " ('97+38=', '135', '125'),\n",
       " ('97+39=', '136', '126'),\n",
       " ('97+40=', '137', '127'),\n",
       " ('97+41=', '138', '128'),\n",
       " ('97+42=', '139', '129'),\n",
       " ('97+43=', '140', '130'),\n",
       " ('97+44=', '141', '131'),\n",
       " ('97+45=', '142', '132'),\n",
       " ('97+46=', '143', '133'),\n",
       " ('97+47=', '144', '134'),\n",
       " ('97+48=', '145', '135'),\n",
       " ('97+49=', '146', '136'),\n",
       " ('97+50=', '147', '137'),\n",
       " ('97+51=', '148', '138'),\n",
       " ('97+52=', '149', '139'),\n",
       " ('97+57=', '154', '144'),\n",
       " ('97+58=', '155', '145'),\n",
       " ('97+59=', '156', '146'),\n",
       " ('97+60=', '157', '147'),\n",
       " ('97+61=', '158', '148'),\n",
       " ('97+94=', '191', '111'),\n",
       " ('98+1=', '99', '90'),\n",
       " ('98+2=', '100', '101'),\n",
       " ('98+3=', '101', '12'),\n",
       " ('98+4=', '102', '13'),\n",
       " ('98+5=', '103', '14'),\n",
       " ('98+6=', '104', '14'),\n",
       " ('98+7=', '105', '15'),\n",
       " ('98+8=', '106', '17'),\n",
       " ('98+9=', '107', '18'),\n",
       " ('98+30=', '128', '118'),\n",
       " ('98+31=', '129', '119'),\n",
       " ('98+32=', '130', '120'),\n",
       " ('98+34=', '132', '122'),\n",
       " ('98+35=', '133', '123'),\n",
       " ('98+36=', '134', '124'),\n",
       " ('98+37=', '135', '125'),\n",
       " ('98+38=', '136', '126'),\n",
       " ('98+39=', '137', '127'),\n",
       " ('98+40=', '138', '128'),\n",
       " ('98+41=', '139', '129'),\n",
       " ('98+42=', '140', '130'),\n",
       " ('98+43=', '141', '131'),\n",
       " ('98+44=', '142', '132'),\n",
       " ('98+45=', '143', '133'),\n",
       " ('98+46=', '144', '134'),\n",
       " ('98+47=', '145', '135'),\n",
       " ('98+48=', '146', '136'),\n",
       " ('98+49=', '147', '137'),\n",
       " ('98+50=', '148', '138'),\n",
       " ('98+51=', '149', '139'),\n",
       " ('98+56=', '154', '144'),\n",
       " ('98+57=', '155', '145'),\n",
       " ('98+58=', '156', '146'),\n",
       " ('98+59=', '157', '147'),\n",
       " ('98+60=', '158', '148'),\n",
       " ('99+1=', '100', '90'),\n",
       " ('99+2=', '101', '111'),\n",
       " ('99+3=', '102', '13'),\n",
       " ('99+4=', '103', '13'),\n",
       " ('99+5=', '104', '14'),\n",
       " ('99+6=', '105', '15'),\n",
       " ('99+7=', '106', '16'),\n",
       " ('99+8=', '107', '17'),\n",
       " ('99+9=', '108', '19'),\n",
       " ('99+31=', '130', '120'),\n",
       " ('99+33=', '132', '122'),\n",
       " ('99+34=', '133', '123'),\n",
       " ('99+35=', '134', '124'),\n",
       " ('99+36=', '135', '125'),\n",
       " ('99+37=', '136', '126'),\n",
       " ('99+38=', '137', '127'),\n",
       " ('99+39=', '138', '128'),\n",
       " ('99+40=', '139', '129'),\n",
       " ('99+41=', '140', '130'),\n",
       " ('99+42=', '141', '131'),\n",
       " ('99+43=', '142', '132'),\n",
       " ('99+44=', '143', '133'),\n",
       " ('99+45=', '144', '134'),\n",
       " ('99+46=', '145', '135'),\n",
       " ('99+47=', '146', '136'),\n",
       " ('99+48=', '147', '137'),\n",
       " ('99+49=', '148', '138'),\n",
       " ('99+50=', '149', '139'),\n",
       " ('99+51=', '150', '140'),\n",
       " ('99+55=', '154', '144'),\n",
       " ('99+56=', '155', '145'),\n",
       " ('99+57=', '156', '146'),\n",
       " ('99+58=', '157', '147'),\n",
       " ('99+59=', '158', '148'),\n",
       " ('99+61=', '160', '150')]"
      ]
     },
     "execution_count": 22,
     "metadata": {},
     "output_type": "execute_result"
    }
   ],
   "source": [
    "# Validation accuracy jumped to 73% (from 15%). You may see a different accuracy \n",
    "# Let's get an idea of which cases are giving the model a hard time in the validation data:\n",
    "wrongs = []\n",
    "ben.measure_accuracy(q,a, log_list=wrongs, log_cond=-0.5)\n",
    "wrongs"
   ]
  },
  {
   "cell_type": "markdown",
   "id": "7b93905e-3980-4bba-aba9-9782e0632f7c",
   "metadata": {},
   "source": [
    "Many errors occcur when the second number is single digit and also between 30 and 60.\n",
    "\n",
    "Single digits could be explained, because the model sees relatively little examples (single digits are 10% of two digit examples).\n",
    "\n",
    "But the 30..60 ranges are weird."
   ]
  },
  {
   "cell_type": "markdown",
   "id": "c7752a67-06bb-4701-8c6c-cd79f4dd7d4b",
   "metadata": {},
   "source": [
    "### More...\n",
    "\n",
    "Even if dropout reduces overfit, validation data loss is still quite bad.\n",
    "\n",
    "The training dataset (first adding number between 0 and 89) and validation dataset (90 to 99) are sharply cut around the 90 boundary and represent different distributions of the data. This is likely to increase training data overfit because the model is being trained on a subset of the data with a different distribution than the whole data with the validation set. One could say the training set is not representative of the overall distribution of the data.\n",
    "\n",
    "See add_two_digits_shuffled for how shuffling improves the model by a lot.\n",
    "\n",
    "Perhaps using a zero-padded data format would allow better accuracy, like 82+07=089 ?\n",
    "\n",
    "From other experiences I noted a smaller model.block_size (than the 16 we've used) increases overall loss, which is wird. Should be the opposite, because there are now less characters in immediate memory to handle. "
   ]
  }
 ],
 "metadata": {
  "kernelspec": {
   "display_name": "Python 3 (ipykernel)",
   "language": "python",
   "name": "python3"
  },
  "language_info": {
   "codemirror_mode": {
    "name": "ipython",
    "version": 3
   },
   "file_extension": ".py",
   "mimetype": "text/x-python",
   "name": "python",
   "nbconvert_exporter": "python",
   "pygments_lexer": "ipython3",
   "version": "3.11.4"
  }
 },
 "nbformat": 4,
 "nbformat_minor": 5
}
