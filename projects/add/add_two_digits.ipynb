{
 "cells": [
  {
   "cell_type": "markdown",
   "id": "3c0fbbaf-9565-40a9-b378-9f40175390d7",
   "metadata": {},
   "source": [
    "Learn to add two 2-digit numbers.\n",
    "90..99+n is never seen during training but gets an accuracy in the 60%\n",
    "Memorized 0..9+n has really bad accuracy of 6%, perhaps because of single digit versus all other double digit numbers\n",
    "All other memorized ranges have an accuracy around 94%\n"
   ]
  },
  {
   "cell_type": "code",
   "execution_count": 1,
   "id": "7b3ce45a-3722-4f8b-ba0b-32ec4a64805a",
   "metadata": {},
   "outputs": [],
   "source": [
    "from gptbench import Sample, LogFlag, Train, empty_config"
   ]
  },
  {
   "cell_type": "markdown",
   "id": "40de1360-3928-4c16-b436-4a2b69d5d337",
   "metadata": {},
   "source": [
    "Create train and validation dataset:\n",
    "python prepare_addition.py ../data/add2.txt 2 --sep=\"\\n\" --split=0.9\n",
    "\n",
    "Creates add2.train.txt and add2.val.txt"
   ]
  },
  {
   "cell_type": "code",
   "execution_count": 2,
   "id": "0de89611-55a3-4aa3-a3ca-a829932bf16f",
   "metadata": {},
   "outputs": [
    {
     "data": {
      "text/plain": [
       "'90+0=90\\n90+1=91\\n90+2=92\\n90+3=93\\n90+4=94\\n90+5=95\\n90+6=96\\n90+7=97\\n90+8=98\\n90+9=99\\n90+10=100\\n90+11=101\\n90+12=102\\n90+13=103\\n90+14=104\\n90+15=105\\n90+16=106\\n90+17=107\\n90+18=108\\n90+19=109\\n90+20=110\\n90+21=111\\n90+22=112\\n90+23=113\\n90+24=114\\n90+25=115\\n90+26=116\\n90+27=117\\n90+28=118\\n90+29=119\\n90+30=120\\n90+31=121\\n90+32=122\\n90+33=123\\n90+34=124\\n90+35=125\\n90+36=126\\n90+37=127\\n90+38=128\\n90+39=129\\n90+40=130\\n90+41=131\\n90+42=132\\n90+43=133\\n90+44=134\\n90+45=135\\n90+46=136\\n90+47=137\\n90+48=138\\n90+49=139\\n90+50=140\\n90+51=141\\n'"
      ]
     },
     "execution_count": 2,
     "metadata": {},
     "output_type": "execute_result"
    }
   ],
   "source": [
    "with open('../data/add2.val.txt', 'r', newline=None) as f:\n",
    "    val_data = f.read()\n",
    "val_data[:500]"
   ]
  },
  {
   "cell_type": "code",
   "execution_count": 3,
   "id": "67e9b4f8-5e0c-4ac6-94eb-75cb182c4e8d",
   "metadata": {},
   "outputs": [
    {
     "name": "stdout",
     "output_type": "stream",
     "text": [
      "New random seed 2012991848\n",
      "Loading checkpoint from ./checkpoints\\add2\n",
      "Checkpoint: iter_num=9800, eval loss=0.8883152008056641 2\n",
      "Dataset train_path: ../data/add2.train.txt, val_path_or_train_split: ../data/add2.val.txt, vocab_size: 13\n"
     ]
    }
   ],
   "source": [
    "do = Train('add2', log_mask=LogFlag.ALL)\n",
    "\n",
    "# set datasets\n",
    "do.set_datasets('char', train_path='../data/add2.train.txt', val_path='../data/add2.val.txt')\n",
    "\n",
    "# set config settings\n",
    "cfg = empty_config()\n",
    "cfg.train.log_period=-0.5\n",
    "cfg.model.set(n_layer=6, n_head=6, n_embd=90, block_size=16)\n",
    "cfg.trainer.set(batch_size=128)\n",
    "\n",
    "# and init a new model with config\n",
    "if do.can_resume():\n",
    "    do.init_resume(cfg)\n",
    "else:\n",
    "    do.init_new(cfg)\n",
    "    do.train(iter_count=10000)    "
   ]
  },
  {
   "cell_type": "code",
   "execution_count": 4,
   "id": "164f8c0b-cf38-420e-8855-840aa493e6a1",
   "metadata": {},
   "outputs": [
    {
     "data": {
      "text/plain": [
       "'90+0=90\\n90+1=91\\n90+2=92\\n90+3=93\\n90+4=94\\n90+5=95\\n90+6=96\\n90+7=97\\n90+8=98\\n90+9=99\\n90+10=100\\n90+11=101\\n90+12=102\\n90+13=103\\n90+14=104\\n90+15=105\\n90+16=106\\n90+17=107\\n90+18=108\\n90+19=109\\n90+20=110\\n90+21=111\\n90+22=112\\n90+23=113\\n90+24=114\\n90+25=115\\n90+26=116\\n90+27=117\\n90+28=118\\n90+29=119\\n90+30=120\\n90+31=121\\n90+32=122\\n90+33=123\\n90+34=124\\n90+35=125\\n90+36=126\\n90+37=127\\n90+38=128\\n90+39=129\\n90+40=130\\n90+41=131\\n90+42=132\\n90+43=133\\n90+44=134\\n90+45=135\\n90+46=136\\n90+47=137\\n90+48=138\\n90+49=139\\n90+50=140\\n90+51=141\\n'"
      ]
     },
     "execution_count": 4,
     "metadata": {},
     "output_type": "execute_result"
    }
   ],
   "source": [
    "do.val_dataset.get_src_data()[:500]"
   ]
  },
  {
   "cell_type": "code",
   "execution_count": 5,
   "id": "df88d219-1533-4949-89c9-673ad5c5f332",
   "metadata": {},
   "outputs": [
    {
     "data": {
      "text/plain": [
       "'seed=0 \\nsample: max_len=100 count=1 start_text=56+45= start_after== stop_before=\\n emit_start=1 start_text_sep=| flush=1 eot_stop=0 top=0 temp=1.0 multiline_prompt=0 \\ntrain: sample_num=1254400 eval_loss=0.8883152008056641 train_loss=0.5735212564468384 val_loss=0.8883152008056641 log_period=-0.5 eval_period=100 eval_type=2 eval_iters=100 eval_save_checkpt=1 sample_period=1000 batch_end_callback=default \\ndataset: class_name=char train_path=../data/add2.train.txt val_path_or_train_split=../data/add2.val.txt \\nmodel: device=auto dtype=float32 model_type=None n_layer=6 n_head=6 n_embd=90 vocab_size=13 block_size=16 dropout=0.1 \\ntrainer: n_workers=4 batch_size=128 max_samples=None grad_norm_clip=1.0 opti=1 learning_rate=0.0001 adamw_betas=(0.9, 0.95) adamw_weight_decay=0.1 '"
      ]
     },
     "execution_count": 5,
     "metadata": {},
     "output_type": "execute_result"
    }
   ],
   "source": [
    "str(do.get_config())"
   ]
  },
  {
   "cell_type": "code",
   "execution_count": 56,
   "id": "4aaac146-aab3-4a3a-bdee-413fdeb44c6c",
   "metadata": {},
   "outputs": [
    {
     "name": "stdout",
     "output_type": "stream",
     "text": [
      "143"
     ]
    }
   ],
   "source": [
    "do.sample(start_text=\"3+80=\")"
   ]
  },
  {
   "cell_type": "code",
   "execution_count": null,
   "id": "5550267f-266d-4cd4-b07d-9db86903a753",
   "metadata": {},
   "outputs": [],
   "source": [
    "def test_accuracy(first_number, second_number):\n",
    "    qa = []\n",
    "    for a in range(100):\n",
    "        for b in range(100):\n",
    "            qa.append((f'{a}+{b}=', f'{a+b}'))\n",
    "\n",
    "    qa=qa[first_number*100:second_number*100]\n",
    "    \n",
    "    sep = do.get_config().sample.start_text_sep\n",
    "    start_text = sep.join([q for q,a in qa])\n",
    "\n",
    "    ans = []\n",
    "    do.sample(start_text, dest=ans)\n",
    "\n",
    "    corr=0\n",
    "    for i in range(len(qa)):\n",
    "        q,a = qa[i]\n",
    "        #print(q,a,ans[i])\n",
    "        if a == ans[i]:\n",
    "            corr+=1\n",
    "        \n",
    "    print(f'{corr/len(qa):.3f}')\n"
   ]
  },
  {
   "cell_type": "code",
   "execution_count": 72,
   "id": "ebd36529-76cd-4750-b920-5c891eb336c9",
   "metadata": {},
   "outputs": [
    {
     "name": "stdout",
     "output_type": "stream",
     "text": [
      "0.677\n"
     ]
    }
   ],
   "source": [
    "test_accuracy(90, 100)"
   ]
  },
  {
   "cell_type": "code",
   "execution_count": 71,
   "id": "c07c3372-b1cf-4d4f-9022-9e427906bb77",
   "metadata": {},
   "outputs": [
    {
     "name": "stdout",
     "output_type": "stream",
     "text": [
      "0.069\n"
     ]
    }
   ],
   "source": [
    "test_accuracy(0, 10)"
   ]
  },
  {
   "cell_type": "code",
   "execution_count": 76,
   "id": "2503c088-eacb-4f25-8a02-d4c08389f28f",
   "metadata": {},
   "outputs": [
    {
     "name": "stdout",
     "output_type": "stream",
     "text": [
      "0.936\n"
     ]
    }
   ],
   "source": [
    "test_accuracy(10, 90)"
   ]
  },
  {
   "cell_type": "code",
   "execution_count": null,
   "id": "efcb1c64-54d3-477b-aa1f-edd4881f9deb",
   "metadata": {},
   "outputs": [],
   "source": []
  }
 ],
 "metadata": {
  "kernelspec": {
   "display_name": "Python 3 (ipykernel)",
   "language": "python",
   "name": "python3"
  },
  "language_info": {
   "codemirror_mode": {
    "name": "ipython",
    "version": 3
   },
   "file_extension": ".py",
   "mimetype": "text/x-python",
   "name": "python",
   "nbconvert_exporter": "python",
   "pygments_lexer": "ipython3",
   "version": "3.11.4"
  }
 },
 "nbformat": 4,
 "nbformat_minor": 5
}
